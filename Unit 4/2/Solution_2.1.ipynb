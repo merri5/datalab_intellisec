{
 "cells": [
  {
   "cell_type": "code",
   "execution_count": 1,
   "metadata": {},
   "outputs": [],
   "source": [
    "import os\n",
    "import pandas as pd\n",
    "import numpy as np\n",
    "\n",
    "\n",
    "from joblib import Parallel, delayed\n",
    "\n",
    "import androguard\n",
    "from androguard.misc import AnalyzeAPK, APK\n",
    "\n",
    "from sklearn.model_selection import GridSearchCV \n",
    "from sklearn.cluster import KMeans\n",
    "from sklearn.metrics import silhouette_score, adjusted_rand_score\n",
    "\n",
    "import matplotlib.pyplot as plt"
   ]
  },
  {
   "cell_type": "code",
   "execution_count": 2,
   "metadata": {},
   "outputs": [],
   "source": [
    "def analyze_APK(filename, path):\n",
    "    dict_entry = {}\n",
    "    file = os.path.join(path, filename)\n",
    "    try:\n",
    "        a = APK(file)\n",
    "    except:\n",
    "        print(filename)\n",
    "        dict_entry[filename] = []\n",
    "        return dict_entry\n",
    "    \n",
    "\n",
    "    features = a.get_activities()\n",
    "    features = features + a.get_permissions()\n",
    "    features = features + a.get_services()\n",
    "    features = features + a.get_providers()\n",
    "    if(a.is_multidex()): features = features + ['is_multidex']\n",
    "    else: features = features + ['is_not_multidex']\n",
    "    if(a.is_valid_APK()): features = features + ['is_valid_APK']\n",
    "    else: features = features + ['is_not_valid_APK']\n",
    "\n",
    "    dict_entry[filename] = features\n",
    "\n",
    "    return dict_entry"
   ]
  },
  {
   "cell_type": "code",
   "execution_count": 3,
   "metadata": {},
   "outputs": [],
   "source": [
    "def get_unique_features(data_dict):\n",
    "    unique_tags_set = set({})\n",
    "\n",
    "    for key in data_dict:\n",
    "        unique_tags_set.update(set(data_dict[key]))\n",
    "    \n",
    "    unique_tags = list(unique_tags_set)\n",
    "    return unique_tags\n",
    "\n",
    "\n",
    "def get_features(list_features, unique_features):\n",
    "    features = np.zeros(len(unique_features))\n",
    "    for feature in list_features:\n",
    "        if feature in unique_features:\n",
    "            ind = unique_features.index(feature)\n",
    "            features[ind] = 1\n",
    "    return features"
   ]
  },
  {
   "cell_type": "markdown",
   "metadata": {},
   "source": [
    "# Extract features from train data"
   ]
  },
  {
   "cell_type": "code",
   "execution_count": 4,
   "metadata": {},
   "outputs": [],
   "source": [
    "path_test = os.path.join(os.getcwd(), \"ch02-test\")\n",
    "filenames_test = os.listdir(path_test)"
   ]
  },
  {
   "cell_type": "code",
   "execution_count": 5,
   "metadata": {},
   "outputs": [
    {
     "name": "stderr",
     "output_type": "stream",
     "text": [
      "Requested API Level could not be found, using 10 instead\n",
      "Requested API Level could not be found, using 19 instead\n",
      "Requested API Level could not be found, using 19 instead\n",
      "Requested API Level could not be found, using 10 instead\n",
      "Requested API Level could not be found, using 19 instead\n",
      "Requested API Level could not be found, using 10 instead\n",
      "Requested API Level could not be found, using 10 instead\n",
      "Requested API Level could not be found, using 19 instead\n",
      "Requested API Level could not be found, using 19 instead\n",
      "Requested API Level could not be found, using 10 instead\n",
      "Name 'android:versionName' starts with 'android:' prefix! The Manifest seems to be broken? Removing prefix.\n",
      "Name 'android:minSdkVersion' starts with 'android:' prefix! The Manifest seems to be broken? Removing prefix.\n",
      "Name 'android:targetSdkVersion' starts with 'android:' prefix! The Manifest seems to be broken? Removing prefix.\n",
      "Name 'android:name' starts with 'android:' prefix! The Manifest seems to be broken? Removing prefix.\n",
      "Name 'android:name' starts with 'android:' prefix! The Manifest seems to be broken? Removing prefix.\n",
      "Name 'android:name' starts with 'android:' prefix! The Manifest seems to be broken? Removing prefix.\n",
      "Name 'android:name' starts with 'android:' prefix! The Manifest seems to be broken? Removing prefix.\n",
      "Name 'android:name' starts with 'android:' prefix! The Manifest seems to be broken? Removing prefix.\n",
      "Name 'android:name' starts with 'android:' prefix! The Manifest seems to be broken? Removing prefix.\n",
      "Name 'android:name' starts with 'android:' prefix! The Manifest seems to be broken? Removing prefix.\n",
      "Name 'android:name' starts with 'android:' prefix! The Manifest seems to be broken? Removing prefix.\n",
      "Name 'android:theme' starts with 'android:' prefix! The Manifest seems to be broken? Removing prefix.\n",
      "Name 'android:label' starts with 'android:' prefix! The Manifest seems to be broken? Removing prefix.\n",
      "Name 'android:icon' starts with 'android:' prefix! The Manifest seems to be broken? Removing prefix.\n",
      "Name 'android:name' starts with 'android:' prefix! The Manifest seems to be broken? Removing prefix.\n",
      "Name 'android:allowBackup' starts with 'android:' prefix! The Manifest seems to be broken? Removing prefix.\n",
      "Name 'android:hardwareAccelerated' starts with 'android:' prefix! The Manifest seems to be broken? Removing prefix.\n",
      "Name 'android:theme' starts with 'android:' prefix! The Manifest seems to be broken? Removing prefix.\n",
      "Name 'android:label' starts with 'android:' prefix! The Manifest seems to be broken? Removing prefix.\n",
      "Name 'android:name' starts with 'android:' prefix! The Manifest seems to be broken? Removing prefix.\n",
      "Name 'android:clearTaskOnLaunch' starts with 'android:' prefix! The Manifest seems to be broken? Removing prefix.\n",
      "Name 'android:launchMode' starts with 'android:' prefix! The Manifest seems to be broken? Removing prefix.\n",
      "Name 'android:name' starts with 'android:' prefix! The Manifest seems to be broken? Removing prefix.\n",
      "Name 'android:value' starts with 'android:' prefix! The Manifest seems to be broken? Removing prefix.\n",
      "Name 'android:theme' starts with 'android:' prefix! The Manifest seems to be broken? Removing prefix.\n",
      "Name 'android:name' starts with 'android:' prefix! The Manifest seems to be broken? Removing prefix.\n",
      "Name 'android:configChanges' starts with 'android:' prefix! The Manifest seems to be broken? Removing prefix.\n",
      "Name 'android:theme' starts with 'android:' prefix! The Manifest seems to be broken? Removing prefix.\n",
      "Name 'android:name' starts with 'android:' prefix! The Manifest seems to be broken? Removing prefix.\n",
      "Name 'android:name' starts with 'android:' prefix! The Manifest seems to be broken? Removing prefix.\n",
      "Name 'android:value' starts with 'android:' prefix! The Manifest seems to be broken? Removing prefix.\n",
      "Name 'android:theme' starts with 'android:' prefix! The Manifest seems to be broken? Removing prefix.\n",
      "Name 'android:label' starts with 'android:' prefix! The Manifest seems to be broken? Removing prefix.\n",
      "Name 'android:icon' starts with 'android:' prefix! The Manifest seems to be broken? Removing prefix.\n",
      "Name 'android:name' starts with 'android:' prefix! The Manifest seems to be broken? Removing prefix.\n",
      "Name 'android:excludeFromRecents' starts with 'android:' prefix! The Manifest seems to be broken? Removing prefix.\n",
      "Name 'android:launchMode' starts with 'android:' prefix! The Manifest seems to be broken? Removing prefix.\n",
      "Name 'android:noHistory' starts with 'android:' prefix! The Manifest seems to be broken? Removing prefix.\n",
      "Name 'android:name' starts with 'android:' prefix! The Manifest seems to be broken? Removing prefix.\n",
      "Name 'android:label' starts with 'android:' prefix! The Manifest seems to be broken? Removing prefix.\n",
      "Name 'android:name' starts with 'android:' prefix! The Manifest seems to be broken? Removing prefix.\n",
      "Name 'android:name' starts with 'android:' prefix! The Manifest seems to be broken? Removing prefix.\n",
      "Name 'android:name' starts with 'android:' prefix! The Manifest seems to be broken? Removing prefix.\n",
      "Name 'android:name' starts with 'android:' prefix! The Manifest seems to be broken? Removing prefix.\n",
      "Name 'android:name' starts with 'android:' prefix! The Manifest seems to be broken? Removing prefix.\n",
      "Name 'android:name' starts with 'android:' prefix! The Manifest seems to be broken? Removing prefix.\n",
      "Name 'android:name' starts with 'android:' prefix! The Manifest seems to be broken? Removing prefix.\n",
      "Name 'android:name' starts with 'android:' prefix! The Manifest seems to be broken? Removing prefix.\n",
      "Name 'android:scheme' starts with 'android:' prefix! The Manifest seems to be broken? Removing prefix.\n",
      "Name 'android:name' starts with 'android:' prefix! The Manifest seems to be broken? Removing prefix.\n",
      "Name 'android:name' starts with 'android:' prefix! The Manifest seems to be broken? Removing prefix.\n",
      "Name 'android:theme' starts with 'android:' prefix! The Manifest seems to be broken? Removing prefix.\n",
      "Name 'android:name' starts with 'android:' prefix! The Manifest seems to be broken? Removing prefix.\n",
      "Name 'android:name' starts with 'android:' prefix! The Manifest seems to be broken? Removing prefix.\n",
      "Name 'android:value' starts with 'android:' prefix! The Manifest seems to be broken? Removing prefix.\n",
      "Name 'android:theme' starts with 'android:' prefix! The Manifest seems to be broken? Removing prefix.\n",
      "Name 'android:name' starts with 'android:' prefix! The Manifest seems to be broken? Removing prefix.\n",
      "Name 'android:configChanges' starts with 'android:' prefix! The Manifest seems to be broken? Removing prefix.\n",
      "Name 'android:theme' starts with 'android:' prefix! The Manifest seems to be broken? Removing prefix.\n",
      "Name 'android:name' starts with 'android:' prefix! The Manifest seems to be broken? Removing prefix.\n",
      "Name 'android:configChanges' starts with 'android:' prefix! The Manifest seems to be broken? Removing prefix.\n",
      "Name 'android:theme' starts with 'android:' prefix! The Manifest seems to be broken? Removing prefix.\n",
      "Name 'android:name' starts with 'android:' prefix! The Manifest seems to be broken? Removing prefix.\n",
      "Name 'android:configChanges' starts with 'android:' prefix! The Manifest seems to be broken? Removing prefix.\n",
      "Name 'android:theme' starts with 'android:' prefix! The Manifest seems to be broken? Removing prefix.\n",
      "Name 'android:name' starts with 'android:' prefix! The Manifest seems to be broken? Removing prefix.\n",
      "Name 'android:excludeFromRecents' starts with 'android:' prefix! The Manifest seems to be broken? Removing prefix.\n",
      "Name 'android:theme' starts with 'android:' prefix! The Manifest seems to be broken? Removing prefix.\n",
      "Name 'android:name' starts with 'android:' prefix! The Manifest seems to be broken? Removing prefix.\n",
      "Name 'android:theme' starts with 'android:' prefix! The Manifest seems to be broken? Removing prefix.\n",
      "Name 'android:name' starts with 'android:' prefix! The Manifest seems to be broken? Removing prefix.\n",
      "Name 'android:configChanges' starts with 'android:' prefix! The Manifest seems to be broken? Removing prefix.\n",
      "Name 'android:name' starts with 'android:' prefix! The Manifest seems to be broken? Removing prefix.\n",
      "Name 'android:configChanges' starts with 'android:' prefix! The Manifest seems to be broken? Removing prefix.\n"
     ]
    },
    {
     "name": "stderr",
     "output_type": "stream",
     "text": [
      "Name 'android:name' starts with 'android:' prefix! The Manifest seems to be broken? Removing prefix.\n",
      "Name 'android:configChanges' starts with 'android:' prefix! The Manifest seems to be broken? Removing prefix.\n",
      "Name 'android:name' starts with 'android:' prefix! The Manifest seems to be broken? Removing prefix.\n",
      "Name 'android:configChanges' starts with 'android:' prefix! The Manifest seems to be broken? Removing prefix.\n",
      "Name 'android:theme' starts with 'android:' prefix! The Manifest seems to be broken? Removing prefix.\n",
      "Name 'android:name' starts with 'android:' prefix! The Manifest seems to be broken? Removing prefix.\n",
      "Name 'android:configChanges' starts with 'android:' prefix! The Manifest seems to be broken? Removing prefix.\n",
      "Name 'android:name' starts with 'android:' prefix! The Manifest seems to be broken? Removing prefix.\n",
      "Name 'android:configChanges' starts with 'android:' prefix! The Manifest seems to be broken? Removing prefix.\n",
      "Name 'android:theme' starts with 'android:' prefix! The Manifest seems to be broken? Removing prefix.\n",
      "Name 'android:name' starts with 'android:' prefix! The Manifest seems to be broken? Removing prefix.\n",
      "Name 'android:configChanges' starts with 'android:' prefix! The Manifest seems to be broken? Removing prefix.\n",
      "Name 'android:hardwareAccelerated' starts with 'android:' prefix! The Manifest seems to be broken? Removing prefix.\n",
      "Name 'android:name' starts with 'android:' prefix! The Manifest seems to be broken? Removing prefix.\n",
      "Name 'android:configChanges' starts with 'android:' prefix! The Manifest seems to be broken? Removing prefix.\n",
      "Name 'android:theme' starts with 'android:' prefix! The Manifest seems to be broken? Removing prefix.\n",
      "Name 'android:name' starts with 'android:' prefix! The Manifest seems to be broken? Removing prefix.\n",
      "Name 'android:name' starts with 'android:' prefix! The Manifest seems to be broken? Removing prefix.\n",
      "Name 'android:configChanges' starts with 'android:' prefix! The Manifest seems to be broken? Removing prefix.\n",
      "Name 'android:theme' starts with 'android:' prefix! The Manifest seems to be broken? Removing prefix.\n",
      "Name 'android:name' starts with 'android:' prefix! The Manifest seems to be broken? Removing prefix.\n",
      "Name 'android:configChanges' starts with 'android:' prefix! The Manifest seems to be broken? Removing prefix.\n",
      "Name 'android:theme' starts with 'android:' prefix! The Manifest seems to be broken? Removing prefix.\n",
      "Name 'android:name' starts with 'android:' prefix! The Manifest seems to be broken? Removing prefix.\n",
      "Name 'android:configChanges' starts with 'android:' prefix! The Manifest seems to be broken? Removing prefix.\n",
      "Name 'android:theme' starts with 'android:' prefix! The Manifest seems to be broken? Removing prefix.\n",
      "Name 'android:name' starts with 'android:' prefix! The Manifest seems to be broken? Removing prefix.\n",
      "Name 'android:configChanges' starts with 'android:' prefix! The Manifest seems to be broken? Removing prefix.\n",
      "Name 'android:theme' starts with 'android:' prefix! The Manifest seems to be broken? Removing prefix.\n",
      "Name 'android:name' starts with 'android:' prefix! The Manifest seems to be broken? Removing prefix.\n",
      "Name 'android:configChanges' starts with 'android:' prefix! The Manifest seems to be broken? Removing prefix.\n",
      "Name 'android:name' starts with 'android:' prefix! The Manifest seems to be broken? Removing prefix.\n",
      "Name 'android:configChanges' starts with 'android:' prefix! The Manifest seems to be broken? Removing prefix.\n",
      "Name 'android:keepScreenOn' starts with 'android:' prefix! The Manifest seems to be broken? Removing prefix.\n",
      "Name 'android:name' starts with 'android:' prefix! The Manifest seems to be broken? Removing prefix.\n",
      "Name 'android:enabled' starts with 'android:' prefix! The Manifest seems to be broken? Removing prefix.\n",
      "Name 'android:exported' starts with 'android:' prefix! The Manifest seems to be broken? Removing prefix.\n",
      "Name 'android:process' starts with 'android:' prefix! The Manifest seems to be broken? Removing prefix.\n",
      "Name 'android:name' starts with 'android:' prefix! The Manifest seems to be broken? Removing prefix.\n",
      "Name 'android:enabled' starts with 'android:' prefix! The Manifest seems to be broken? Removing prefix.\n",
      "Name 'android:process' starts with 'android:' prefix! The Manifest seems to be broken? Removing prefix.\n",
      "Name 'android:name' starts with 'android:' prefix! The Manifest seems to be broken? Removing prefix.\n",
      "Name 'android:name' starts with 'android:' prefix! The Manifest seems to be broken? Removing prefix.\n",
      "Name 'android:configChanges' starts with 'android:' prefix! The Manifest seems to be broken? Removing prefix.\n",
      "Name 'android:hardwareAccelerated' starts with 'android:' prefix! The Manifest seems to be broken? Removing prefix.\n",
      "Name 'android:theme' starts with 'android:' prefix! The Manifest seems to be broken? Removing prefix.\n",
      "Name 'android:name' starts with 'android:' prefix! The Manifest seems to be broken? Removing prefix.\n",
      "Name 'android:configChanges' starts with 'android:' prefix! The Manifest seems to be broken? Removing prefix.\n",
      "Name 'android:hardwareAccelerated' starts with 'android:' prefix! The Manifest seems to be broken? Removing prefix.\n",
      "Name 'android:theme' starts with 'android:' prefix! The Manifest seems to be broken? Removing prefix.\n",
      "Name 'android:name' starts with 'android:' prefix! The Manifest seems to be broken? Removing prefix.\n",
      "Name 'android:configChanges' starts with 'android:' prefix! The Manifest seems to be broken? Removing prefix.\n",
      "Name 'android:hardwareAccelerated' starts with 'android:' prefix! The Manifest seems to be broken? Removing prefix.\n",
      "XML Seems to be packed, operations on the AndroidManifest.xml might fail.\n",
      "Failed to get the attribute 'name' on tag 'uses-permission' with namespace. But found the same attribute without namespace!\n",
      "Failed to get the attribute 'name' on tag 'uses-permission' with namespace. But found the same attribute without namespace!\n",
      "Failed to get the attribute 'name' on tag 'uses-permission' with namespace. But found the same attribute without namespace!\n",
      "Failed to get the attribute 'name' on tag 'uses-permission' with namespace. But found the same attribute without namespace!\n",
      "Failed to get the attribute 'name' on tag 'uses-permission' with namespace. But found the same attribute without namespace!\n",
      "Failed to get the attribute 'name' on tag 'uses-permission' with namespace. But found the same attribute without namespace!\n",
      "Failed to get the attribute 'name' on tag 'uses-permission' with namespace. But found the same attribute without namespace!\n",
      "Failed to get the attribute 'name' on tag 'uses-permission' with namespace. But found the same attribute without namespace!\n",
      "Requested API Level could not be found, using 19 instead\n",
      "Requested API Level could not be found, using 19 instead\n",
      "Requested API Level could not be found, using 10 instead\n",
      "Requested API Level could not be found, using 10 instead\n",
      "Requested API Level could not be found, using 19 instead\n",
      "Requested API Level could not be found, using 19 instead\n",
      "Requested API Level could not be found, using 10 instead\n",
      "Requested API Level could not be found, using 10 instead\n",
      "Requested API Level could not be found, using 10 instead\n",
      "Requested API Level could not be found, using 10 instead\n",
      "Requested API Level could not be found, using 19 instead\n",
      "Requested API Level could not be found, using 19 instead\n",
      "Requested API Level could not be found, using 19 instead\n",
      "Requested API Level could not be found, using 10 instead\n",
      "Requested API Level could not be found, using 10 instead\n",
      "Requested API Level could not be found, using 19 instead\n",
      "Requested API Level could not be found, using 10 instead\n",
      "Requested API Level could not be found, using 10 instead\n",
      "Requested API Level could not be found, using 19 instead\n",
      "Requested API Level could not be found, using 10 instead\n",
      "Requested API Level could not be found, using 19 instead\n",
      "Requested API Level could not be found, using 10 instead\n",
      "Requested API Level could not be found, using 19 instead\n",
      "Requested API Level could not be found, using 19 instead\n",
      "Requested API Level could not be found, using 19 instead\n",
      "Requested API Level could not be found, using 10 instead\n",
      "Requested API Level could not be found, using 10 instead\n",
      "Requested API Level could not be found, using 19 instead\n"
     ]
    },
    {
     "name": "stderr",
     "output_type": "stream",
     "text": [
      "Requested API Level could not be found, using 10 instead\n",
      "Requested API Level could not be found, using 10 instead\n",
      "Requested API Level could not be found, using 10 instead\n",
      "Name 'android:versionName' starts with 'android:' prefix! The Manifest seems to be broken? Removing prefix.\n",
      "Name 'android:minSdkVersion' starts with 'android:' prefix! The Manifest seems to be broken? Removing prefix.\n",
      "Name 'android:targetSdkVersion' starts with 'android:' prefix! The Manifest seems to be broken? Removing prefix.\n",
      "Name 'android:name' starts with 'android:' prefix! The Manifest seems to be broken? Removing prefix.\n",
      "Name 'android:name' starts with 'android:' prefix! The Manifest seems to be broken? Removing prefix.\n",
      "Name 'android:name' starts with 'android:' prefix! The Manifest seems to be broken? Removing prefix.\n",
      "Name 'android:name' starts with 'android:' prefix! The Manifest seems to be broken? Removing prefix.\n",
      "Name 'android:name' starts with 'android:' prefix! The Manifest seems to be broken? Removing prefix.\n",
      "Name 'android:name' starts with 'android:' prefix! The Manifest seems to be broken? Removing prefix.\n",
      "Name 'android:name' starts with 'android:' prefix! The Manifest seems to be broken? Removing prefix.\n",
      "Name 'android:name' starts with 'android:' prefix! The Manifest seems to be broken? Removing prefix.\n",
      "Name 'android:name' starts with 'android:' prefix! The Manifest seems to be broken? Removing prefix.\n",
      "Name 'android:name' starts with 'android:' prefix! The Manifest seems to be broken? Removing prefix.\n",
      "Name 'android:name' starts with 'android:' prefix! The Manifest seems to be broken? Removing prefix.\n",
      "Name 'android:name' starts with 'android:' prefix! The Manifest seems to be broken? Removing prefix.\n",
      "Name 'android:name' starts with 'android:' prefix! The Manifest seems to be broken? Removing prefix.\n",
      "Name 'android:name' starts with 'android:' prefix! The Manifest seems to be broken? Removing prefix.\n",
      "Name 'android:protectionLevel' starts with 'android:' prefix! The Manifest seems to be broken? Removing prefix.\n",
      "Name 'android:name' starts with 'android:' prefix! The Manifest seems to be broken? Removing prefix.\n",
      "Name 'android:name' starts with 'android:' prefix! The Manifest seems to be broken? Removing prefix.\n",
      "Name 'android:theme' starts with 'android:' prefix! The Manifest seems to be broken? Removing prefix.\n",
      "Name 'android:label' starts with 'android:' prefix! The Manifest seems to be broken? Removing prefix.\n",
      "Name 'android:icon' starts with 'android:' prefix! The Manifest seems to be broken? Removing prefix.\n",
      "Name 'android:allowBackup' starts with 'android:' prefix! The Manifest seems to be broken? Removing prefix.\n",
      "Name 'android:hardwareAccelerated' starts with 'android:' prefix! The Manifest seems to be broken? Removing prefix.\n",
      "Name 'android:label' starts with 'android:' prefix! The Manifest seems to be broken? Removing prefix.\n",
      "Name 'android:name' starts with 'android:' prefix! The Manifest seems to be broken? Removing prefix.\n",
      "Name 'android:name' starts with 'android:' prefix! The Manifest seems to be broken? Removing prefix.\n",
      "Name 'android:configChanges' starts with 'android:' prefix! The Manifest seems to be broken? Removing prefix.\n",
      "Name 'android:name' starts with 'android:' prefix! The Manifest seems to be broken? Removing prefix.\n",
      "Name 'android:configChanges' starts with 'android:' prefix! The Manifest seems to be broken? Removing prefix.\n",
      "Name 'android:name' starts with 'android:' prefix! The Manifest seems to be broken? Removing prefix.\n",
      "Name 'android:configChanges' starts with 'android:' prefix! The Manifest seems to be broken? Removing prefix.\n",
      "Name 'android:name' starts with 'android:' prefix! The Manifest seems to be broken? Removing prefix.\n",
      "Name 'android:theme' starts with 'android:' prefix! The Manifest seems to be broken? Removing prefix.\n",
      "Name 'android:label' starts with 'android:' prefix! The Manifest seems to be broken? Removing prefix.\n",
      "Name 'android:name' starts with 'android:' prefix! The Manifest seems to be broken? Removing prefix.\n",
      "Name 'android:screenOrientation' starts with 'android:' prefix! The Manifest seems to be broken? Removing prefix.\n",
      "Name 'android:configChanges' starts with 'android:' prefix! The Manifest seems to be broken? Removing prefix.\n",
      "Name 'android:name' starts with 'android:' prefix! The Manifest seems to be broken? Removing prefix.\n",
      "Name 'android:name' starts with 'android:' prefix! The Manifest seems to be broken? Removing prefix.\n",
      "Name 'android:name' starts with 'android:' prefix! The Manifest seems to be broken? Removing prefix.\n",
      "Name 'android:name' starts with 'android:' prefix! The Manifest seems to be broken? Removing prefix.\n",
      "Name 'android:name' starts with 'android:' prefix! The Manifest seems to be broken? Removing prefix.\n",
      "Name 'android:name' starts with 'android:' prefix! The Manifest seems to be broken? Removing prefix.\n",
      "Name 'android:name' starts with 'android:' prefix! The Manifest seems to be broken? Removing prefix.\n",
      "Name 'android:name' starts with 'android:' prefix! The Manifest seems to be broken? Removing prefix.\n",
      "Name 'android:name' starts with 'android:' prefix! The Manifest seems to be broken? Removing prefix.\n",
      "Name 'android:name' starts with 'android:' prefix! The Manifest seems to be broken? Removing prefix.\n",
      "Name 'android:name' starts with 'android:' prefix! The Manifest seems to be broken? Removing prefix.\n",
      "Name 'android:name' starts with 'android:' prefix! The Manifest seems to be broken? Removing prefix.\n",
      "Name 'android:name' starts with 'android:' prefix! The Manifest seems to be broken? Removing prefix.\n",
      "Name 'android:name' starts with 'android:' prefix! The Manifest seems to be broken? Removing prefix.\n",
      "Name 'android:name' starts with 'android:' prefix! The Manifest seems to be broken? Removing prefix.\n",
      "Name 'android:name' starts with 'android:' prefix! The Manifest seems to be broken? Removing prefix.\n",
      "Name 'android:name' starts with 'android:' prefix! The Manifest seems to be broken? Removing prefix.\n",
      "Name 'android:name' starts with 'android:' prefix! The Manifest seems to be broken? Removing prefix.\n",
      "Name 'android:name' starts with 'android:' prefix! The Manifest seems to be broken? Removing prefix.\n",
      "Name 'android:name' starts with 'android:' prefix! The Manifest seems to be broken? Removing prefix.\n",
      "Name 'android:name' starts with 'android:' prefix! The Manifest seems to be broken? Removing prefix.\n",
      "Name 'android:name' starts with 'android:' prefix! The Manifest seems to be broken? Removing prefix.\n",
      "Name 'android:name' starts with 'android:' prefix! The Manifest seems to be broken? Removing prefix.\n",
      "Name 'android:name' starts with 'android:' prefix! The Manifest seems to be broken? Removing prefix.\n",
      "Name 'android:name' starts with 'android:' prefix! The Manifest seems to be broken? Removing prefix.\n",
      "Name 'android:name' starts with 'android:' prefix! The Manifest seems to be broken? Removing prefix.\n",
      "Name 'android:name' starts with 'android:' prefix! The Manifest seems to be broken? Removing prefix.\n",
      "Name 'android:name' starts with 'android:' prefix! The Manifest seems to be broken? Removing prefix.\n",
      "Name 'android:permission' starts with 'android:' prefix! The Manifest seems to be broken? Removing prefix.\n",
      "Name 'android:name' starts with 'android:' prefix! The Manifest seems to be broken? Removing prefix.\n",
      "Name 'android:value' starts with 'android:' prefix! The Manifest seems to be broken? Removing prefix.\n",
      "Name 'android:name' starts with 'android:' prefix! The Manifest seems to be broken? Removing prefix.\n",
      "Name 'android:configChanges' starts with 'android:' prefix! The Manifest seems to be broken? Removing prefix.\n",
      "Name 'android:name' starts with 'android:' prefix! The Manifest seems to be broken? Removing prefix.\n",
      "Name 'android:value' starts with 'android:' prefix! The Manifest seems to be broken? Removing prefix.\n",
      "Name 'android:name' starts with 'android:' prefix! The Manifest seems to be broken? Removing prefix.\n",
      "Name 'android:configChanges' starts with 'android:' prefix! The Manifest seems to be broken? Removing prefix.\n",
      "Name 'android:name' starts with 'android:' prefix! The Manifest seems to be broken? Removing prefix.\n",
      "Name 'android:configChanges' starts with 'android:' prefix! The Manifest seems to be broken? Removing prefix.\n"
     ]
    },
    {
     "name": "stderr",
     "output_type": "stream",
     "text": [
      "Name 'android:name' starts with 'android:' prefix! The Manifest seems to be broken? Removing prefix.\n",
      "Name 'android:configChanges' starts with 'android:' prefix! The Manifest seems to be broken? Removing prefix.\n",
      "Name 'android:name' starts with 'android:' prefix! The Manifest seems to be broken? Removing prefix.\n",
      "Name 'android:configChanges' starts with 'android:' prefix! The Manifest seems to be broken? Removing prefix.\n",
      "Name 'android:theme' starts with 'android:' prefix! The Manifest seems to be broken? Removing prefix.\n",
      "Name 'android:name' starts with 'android:' prefix! The Manifest seems to be broken? Removing prefix.\n",
      "Name 'android:configChanges' starts with 'android:' prefix! The Manifest seems to be broken? Removing prefix.\n",
      "Name 'android:name' starts with 'android:' prefix! The Manifest seems to be broken? Removing prefix.\n",
      "Name 'android:configChanges' starts with 'android:' prefix! The Manifest seems to be broken? Removing prefix.\n",
      "Name 'android:name' starts with 'android:' prefix! The Manifest seems to be broken? Removing prefix.\n",
      "Name 'android:enabled' starts with 'android:' prefix! The Manifest seems to be broken? Removing prefix.\n",
      "Name 'android:exported' starts with 'android:' prefix! The Manifest seems to be broken? Removing prefix.\n",
      "Name 'android:process' starts with 'android:' prefix! The Manifest seems to be broken? Removing prefix.\n",
      "Name 'android:name' starts with 'android:' prefix! The Manifest seems to be broken? Removing prefix.\n",
      "Name 'android:enabled' starts with 'android:' prefix! The Manifest seems to be broken? Removing prefix.\n",
      "Name 'android:process' starts with 'android:' prefix! The Manifest seems to be broken? Removing prefix.\n",
      "Name 'android:theme' starts with 'android:' prefix! The Manifest seems to be broken? Removing prefix.\n",
      "Name 'android:name' starts with 'android:' prefix! The Manifest seems to be broken? Removing prefix.\n",
      "Name 'android:configChanges' starts with 'android:' prefix! The Manifest seems to be broken? Removing prefix.\n",
      "Name 'android:theme' starts with 'android:' prefix! The Manifest seems to be broken? Removing prefix.\n",
      "Name 'android:name' starts with 'android:' prefix! The Manifest seems to be broken? Removing prefix.\n",
      "Name 'android:configChanges' starts with 'android:' prefix! The Manifest seems to be broken? Removing prefix.\n",
      "Name 'android:theme' starts with 'android:' prefix! The Manifest seems to be broken? Removing prefix.\n",
      "Name 'android:name' starts with 'android:' prefix! The Manifest seems to be broken? Removing prefix.\n",
      "Name 'android:configChanges' starts with 'android:' prefix! The Manifest seems to be broken? Removing prefix.\n",
      "Name 'android:theme' starts with 'android:' prefix! The Manifest seems to be broken? Removing prefix.\n",
      "Name 'android:name' starts with 'android:' prefix! The Manifest seems to be broken? Removing prefix.\n",
      "Name 'android:configChanges' starts with 'android:' prefix! The Manifest seems to be broken? Removing prefix.\n",
      "Name 'android:name' starts with 'android:' prefix! The Manifest seems to be broken? Removing prefix.\n",
      "Name 'android:exported' starts with 'android:' prefix! The Manifest seems to be broken? Removing prefix.\n",
      "Name 'android:name' starts with 'android:' prefix! The Manifest seems to be broken? Removing prefix.\n",
      "Name 'android:configChanges' starts with 'android:' prefix! The Manifest seems to be broken? Removing prefix.\n",
      "XML Seems to be packed, operations on the AndroidManifest.xml might fail.\n",
      "Failed to get the attribute 'name' on tag 'uses-permission' with namespace. But found the same attribute without namespace!\n",
      "Failed to get the attribute 'name' on tag 'uses-permission' with namespace. But found the same attribute without namespace!\n",
      "Failed to get the attribute 'name' on tag 'uses-permission' with namespace. But found the same attribute without namespace!\n",
      "Failed to get the attribute 'name' on tag 'uses-permission' with namespace. But found the same attribute without namespace!\n",
      "Failed to get the attribute 'name' on tag 'uses-permission' with namespace. But found the same attribute without namespace!\n",
      "Failed to get the attribute 'name' on tag 'uses-permission' with namespace. But found the same attribute without namespace!\n",
      "Failed to get the attribute 'name' on tag 'uses-permission' with namespace. But found the same attribute without namespace!\n",
      "Failed to get the attribute 'name' on tag 'uses-permission' with namespace. But found the same attribute without namespace!\n",
      "Failed to get the attribute 'name' on tag 'uses-permission' with namespace. But found the same attribute without namespace!\n",
      "Failed to get the attribute 'name' on tag 'uses-permission' with namespace. But found the same attribute without namespace!\n",
      "Failed to get the attribute 'name' on tag 'uses-permission' with namespace. But found the same attribute without namespace!\n",
      "Failed to get the attribute 'name' on tag 'uses-permission' with namespace. But found the same attribute without namespace!\n",
      "Failed to get the attribute 'name' on tag 'uses-permission' with namespace. But found the same attribute without namespace!\n",
      "Failed to get the attribute 'name' on tag 'uses-permission' with namespace. But found the same attribute without namespace!\n",
      "Failed to get the attribute 'name' on tag 'uses-permission' with namespace. But found the same attribute without namespace!\n",
      "Failed to get the attribute 'name' on tag 'permission' with namespace. But found the same attribute without namespace!\n",
      "Failed to get the attribute 'protectionLevel' on tag 'permission' with namespace. But found the same attribute without namespace!\n",
      "Requested API Level could not be found, using 10 instead\n",
      "Requested API Level could not be found, using 10 instead\n",
      "Requested API Level could not be found, using 19 instead\n",
      "Requested API Level could not be found, using 19 instead\n"
     ]
    },
    {
     "name": "stdout",
     "output_type": "stream",
     "text": [
      "CPU times: user 14.7 s, sys: 2.35 s, total: 17.1 s\n",
      "Wall time: 30.6 s\n"
     ]
    }
   ],
   "source": [
    "%%time\n",
    "\n",
    "data_test_list = (Parallel(n_jobs = -1)(delayed(analyze_APK)(filename, path_test) for filename in filenames_test))"
   ]
  },
  {
   "cell_type": "code",
   "execution_count": 6,
   "metadata": {},
   "outputs": [],
   "source": [
    "data_test = {}\n",
    "\n",
    "for entry in data_test_list:\n",
    "    key = list(entry.keys())[0]\n",
    "    data_test[key] = entry[key]"
   ]
  },
  {
   "cell_type": "code",
   "execution_count": 7,
   "metadata": {},
   "outputs": [],
   "source": [
    "unique_features = get_unique_features(data_test)"
   ]
  },
  {
   "cell_type": "code",
   "execution_count": 8,
   "metadata": {},
   "outputs": [],
   "source": [
    "for key in data_test:\n",
    "    data_test[key] = get_features(data_test[key], unique_features)"
   ]
  },
  {
   "cell_type": "code",
   "execution_count": 9,
   "metadata": {},
   "outputs": [],
   "source": [
    "dataframe_test = pd.DataFrame.from_dict(data_test, orient='index', columns = unique_features)"
   ]
  },
  {
   "cell_type": "code",
   "execution_count": 10,
   "metadata": {},
   "outputs": [],
   "source": [
    "dataframe_test.to_csv(\"test_features_cluster_1.csv\")"
   ]
  },
  {
   "cell_type": "markdown",
   "metadata": {},
   "source": [
    "# Read data"
   ]
  },
  {
   "cell_type": "code",
   "execution_count": 11,
   "metadata": {},
   "outputs": [],
   "source": [
    "data_test1 = pd.read_csv(\"test_features_cluster_1.csv\", index_col = 0)\n",
    "\n",
    "test = data_test1.values"
   ]
  },
  {
   "cell_type": "markdown",
   "metadata": {},
   "source": [
    "# Calculate model parameters"
   ]
  },
  {
   "cell_type": "code",
   "execution_count": 17,
   "metadata": {},
   "outputs": [],
   "source": [
    "mygrid = {}\n",
    "\n",
    "for c in range(4, 20, 2):\n",
    "    cluster = KMeans(n_clusters=c).fit(test)\n",
    "    mygrid[c] = silhouette_score(test, labels=cluster.labels_)"
   ]
  },
  {
   "cell_type": "code",
   "execution_count": 18,
   "metadata": {},
   "outputs": [
    {
     "data": {
      "text/plain": [
       "[<matplotlib.lines.Line2D at 0x7f05cfb5fb50>]"
      ]
     },
     "execution_count": 18,
     "metadata": {},
     "output_type": "execute_result"
    },
    {
     "data": {
      "image/png": "[encoded data removed]",
      "text/plain": [
       "<Figure size 432x288 with 1 Axes>"
      ]
     },
     "metadata": {
      "needs_background": "light"
     },
     "output_type": "display_data"
    }
   ],
   "source": [
    "plt.plot(mygrid.keys(),mygrid.values())"
   ]
  },
  {
   "cell_type": "markdown",
   "metadata": {},
   "source": [
    "# Model"
   ]
  },
  {
   "cell_type": "code",
   "execution_count": null,
   "metadata": {},
   "outputs": [],
   "source": [
    "kmeans = KMeans(n_clusters = 10).fit(test)"
   ]
  },
  {
   "cell_type": "code",
   "execution_count": null,
   "metadata": {},
   "outputs": [],
   "source": [
    "preds = kmeans.labels_"
   ]
  },
  {
   "cell_type": "code",
   "execution_count": null,
   "metadata": {},
   "outputs": [],
   "source": [
    "pd.Series(preds, index = data_test1.index).to_csv(\"test_cluster_1.csv\", header = None)"
   ]
  },
  {
   "cell_type": "code",
   "execution_count": null,
   "metadata": {},
   "outputs": [],
   "source": []
  }
 ],
 "metadata": {
  "kernelspec": {
   "display_name": "Python 3",
   "language": "python",
   "name": "python3"
  },
  "language_info": {
   "codemirror_mode": {
    "name": "ipython",
    "version": 3
   },
   "file_extension": ".py",
   "mimetype": "text/x-python",
   "name": "python",
   "nbconvert_exporter": "python",
   "pygments_lexer": "ipython3",
   "version": "3.8.6"
  }
 },
 "nbformat": 4,
 "nbformat_minor": 4
}
