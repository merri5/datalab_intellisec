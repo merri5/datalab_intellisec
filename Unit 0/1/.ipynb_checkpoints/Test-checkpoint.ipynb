{
 "cells": [
  {
   "cell_type": "code",
   "execution_count": 1,
   "metadata": {},
   "outputs": [],
   "source": [
    "import os\n",
    "import pandas as pd\n",
    "import glob\n",
    "import numpy as np"
   ]
  },
  {
   "cell_type": "code",
   "execution_count": 2,
   "metadata": {},
   "outputs": [],
   "source": [
    "path = os.path.abspath(os.getcwd()) + \"\\\\ch01-test\"\n",
    "\n",
    "all_files = glob.glob(path + \"/*\")"
   ]
  },
  {
   "cell_type": "code",
   "execution_count": 3,
   "metadata": {},
   "outputs": [],
   "source": [
    "string = []\n",
    "filenames = []\n",
    "all_ones = []\n",
    "all_zeros = []\n",
    "\n",
    "for filename in all_files:\n",
    "    df = pd.read_csv(filename, index_col=None,  lineterminator=\"\\t\", header = None)\n",
    "\n",
    "    string.append(df)\n",
    "    all_ones.append(1)\n",
    "    all_zeros.append(0)\n",
    "    a, file_extension = os.path.splitext(filename)\n",
    "    filenames.append(a.replace(path + \"\\\\\", \"\"))\n",
    "\n",
    "df_name = pd.DataFrame(filenames)\n",
    "df_string = pd.concat(string, axis=0, ignore_index=True)\n",
    "frame = pd.concat([df_name, df_string], axis = 1, ignore_index = True)"
   ]
  },
  {
   "cell_type": "code",
   "execution_count": 4,
   "metadata": {},
   "outputs": [],
   "source": [
    "n, p = 1, (1 - 0.501953125)  # first submission with all labels = 1 gave 50.1953125% accuracy\n",
    "s = np.random.binomial(n, p, 1024)"
   ]
  },
  {
   "cell_type": "code",
   "execution_count": 5,
   "metadata": {},
   "outputs": [],
   "source": [
    "df_label = pd.DataFrame(s)\n",
    "result_binomial = pd.concat([df_name, df_label], axis = 1, ignore_index = True)\n",
    "\n",
    "df_all_ones = pd.DataFrame(all_ones)\n",
    "result_all_ones = pd.concat([df_name, df_all_ones], axis = 1, ignore_index = True)\n",
    "\n",
    "df_all_zeros = pd.DataFrame(all_zeros)\n",
    "result_all_zeros = pd.concat([df_name, df_all_zeros], axis = 1, ignore_index = True)"
   ]
  },
  {
   "cell_type": "code",
   "execution_count": 18,
   "metadata": {},
   "outputs": [],
   "source": [
    "result_binomial.to_csv(path_or_buf = os.path.abspath(os.getcwd()) + \"\\\\trying_Binomial.csv\", header = False, index = False)"
   ]
  },
  {
   "cell_type": "code",
   "execution_count": 12,
   "metadata": {},
   "outputs": [],
   "source": [
    "result_all_zeros.to_csv(path_or_buf = os.path.abspath(os.getcwd()) + \"\\\\result_all_zeros.csv\", header = False, index = False)"
   ]
  },
  {
   "cell_type": "code",
   "execution_count": 13,
   "metadata": {},
   "outputs": [],
   "source": [
    "result_all_ones.to_csv(path_or_buf = os.path.abspath(os.getcwd()) + \"\\\\result_all_ones.csv\", header = False, index = False)"
   ]
  }
 ],
 "metadata": {
  "kernelspec": {
   "display_name": "Python 3",
   "language": "python",
   "name": "python3"
  },
  "language_info": {
   "codemirror_mode": {
    "name": "ipython",
    "version": 3
   },
   "file_extension": ".py",
   "mimetype": "text/x-python",
   "name": "python",
   "nbconvert_exporter": "python",
   "pygments_lexer": "ipython3",
   "version": "3.7.4"
  }
 },
 "nbformat": 4,
 "nbformat_minor": 2
}
