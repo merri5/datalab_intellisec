{
 "cells": [
  {
   "cell_type": "code",
   "execution_count": 1,
   "metadata": {},
   "outputs": [],
   "source": [
    "import os\n",
    "import pandas as pd\n",
    "import glob"
   ]
  },
  {
   "cell_type": "code",
   "execution_count": 2,
   "metadata": {},
   "outputs": [],
   "source": [
    "path = os.path.abspath(os.getcwd()) + \"\\\\ch02-test\"\n",
    "\n",
    "all_files = glob.glob(path + \"/*\")"
   ]
  },
  {
   "cell_type": "code",
   "execution_count": 3,
   "metadata": {},
   "outputs": [],
   "source": [
    "string = []\n",
    "filenames = []\n",
    "\n",
    "for filename in all_files:\n",
    "    df = pd.read_csv(filename, index_col=None,  lineterminator=\"\\t\", header = None)\n",
    "\n",
    "    string.append(df)\n",
    "    name, file_extension = os.path.splitext(filename)\n",
    "    filenames.append(name.replace(path + \"\\\\\", \"\"))\n",
    "\n",
    "df_name = pd.DataFrame(filenames)\n",
    "df_string = pd.concat(string, axis=0, ignore_index=True)\n",
    "frame = pd.concat([df_name, df_string], axis = 1, ignore_index = True)"
   ]
  },
  {
   "cell_type": "code",
   "execution_count": 4,
   "metadata": {},
   "outputs": [],
   "source": [
    "result = []\n",
    "\n",
    "for row in frame.loc[:,1]:\n",
    "    counting = row.count('v') + row.count('o') + row.count('t') + row.count('e')\n",
    "    result.append(counting)"
   ]
  },
  {
   "cell_type": "code",
   "execution_count": 5,
   "metadata": {},
   "outputs": [],
   "source": [
    "result_counting = pd.DataFrame(result)\n",
    "result = pd.concat([frame.loc[:,0], result_counting], axis = 1, ignore_index = True)"
   ]
  },
  {
   "cell_type": "code",
   "execution_count": 6,
   "metadata": {},
   "outputs": [],
   "source": [
    "result.to_csv(path_or_buf = os.path.abspath(os.getcwd()) + \"\\\\result_test.csv\", header = False, index = False)"
   ]
  }
 ],
 "metadata": {
  "kernelspec": {
   "display_name": "Python 3",
   "language": "python",
   "name": "python3"
  },
  "language_info": {
   "codemirror_mode": {
    "name": "ipython",
    "version": 3
   },
   "file_extension": ".py",
   "mimetype": "text/x-python",
   "name": "python",
   "nbconvert_exporter": "python",
   "pygments_lexer": "ipython3",
   "version": "3.7.4"
  }
 },
 "nbformat": 4,
 "nbformat_minor": 2
}
