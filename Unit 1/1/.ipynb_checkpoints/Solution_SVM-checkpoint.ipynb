{
 "cells": [
  {
   "cell_type": "code",
   "execution_count": 1,
   "metadata": {},
   "outputs": [],
   "source": [
    "import numpy as np\n",
    "import pandas as pd\n",
    "import os\n",
    "\n",
    "from collections import OrderedDict\n",
    "\n",
    "from sklearn.metrics import balanced_accuracy_score\n",
    "from sklearn.feature_extraction.text import CountVectorizer\n",
    "\n",
    "from sklearn.decomposition import TruncatedSVD\n",
    "\n",
    "from sklearn.svm import LinearSVC\n",
    "from sklearn.metrics import balanced_accuracy_score, make_scorer"
   ]
  },
  {
   "cell_type": "markdown",
   "metadata": {},
   "source": [
    "# Read Data"
   ]
  },
  {
   "cell_type": "code",
   "execution_count": 2,
   "metadata": {},
   "outputs": [],
   "source": [
    "path_train = os.path.join(os.getcwd(), \"ch01-train\")\n",
    "filenames_train = os.listdir(path_train)\n",
    "\n",
    "data = OrderedDict()\n",
    "labels = []\n",
    "errors_decoding_train = []\n",
    "for filename in filenames_train:\n",
    "    with open(os.path.join(os.getcwd(), \"ch01-train\", filename), mode = 'r', encoding = 'latin-1') as f:\n",
    "        try:\n",
    "            data[filename] = f.read()\n",
    "            labels.append(filename[-1])\n",
    "        except UnicodeDecodeError as error:\n",
    "            errors_decoding_train.append(filename)\n",
    "            print(filename, \"   \", error)"
   ]
  },
  {
   "cell_type": "code",
   "execution_count": 3,
   "metadata": {},
   "outputs": [],
   "source": [
    "path_test = os.path.join(os.getcwd(), \"ch01-test\")\n",
    "filenames_test = os.listdir(path_test)\n",
    "\n",
    "test = OrderedDict()\n",
    "errors_decoding = []\n",
    "for filename in filenames_test:\n",
    "    with open(os.path.join(os.getcwd(), \"ch01-test\", filename), mode = 'r', encoding = 'latin-1') as f:\n",
    "        try:\n",
    "            test[filename] = f.read()\n",
    "        except UnicodeDecodeError as error:\n",
    "            errors_decoding.append(filename)\n",
    "            print(filename, \"   \", error)"
   ]
  },
  {
   "cell_type": "markdown",
   "metadata": {},
   "source": [
    "# Model "
   ]
  },
  {
   "cell_type": "code",
   "execution_count": 5,
   "metadata": {},
   "outputs": [],
   "source": [
    "vec = CountVectorizer()\n",
    "trSVD = TruncatedSVD(n_components=2500)\n",
    "svm = LinearSVC(C=0.01)"
   ]
  },
  {
   "cell_type": "code",
   "execution_count": 6,
   "metadata": {},
   "outputs": [],
   "source": [
    "x_transformed = vec.fit_transform(data.values())\n",
    "x_transformed1 = trSVD.fit_transform(x_transformed)                         "
   ]
  },
  {
   "cell_type": "code",
   "execution_count": 7,
   "metadata": {},
   "outputs": [
    {
     "name": "stderr",
     "output_type": "stream",
     "text": [
      "c:\\users\\m\\anaconda3\\lib\\site-packages\\sklearn\\svm\\base.py:929: ConvergenceWarning: Liblinear failed to converge, increase the number of iterations.\n",
      "  \"the number of iterations.\", ConvergenceWarning)\n"
     ]
    },
    {
     "data": {
      "text/plain": [
       "0.9972904275495953"
      ]
     },
     "execution_count": 7,
     "metadata": {},
     "output_type": "execute_result"
    }
   ],
   "source": [
    "svm.fit(x_transformed1, labels)\n",
    "balanced_accuracy_score(svm.predict(x_transformed1), labels)"
   ]
  },
  {
   "cell_type": "code",
   "execution_count": 8,
   "metadata": {},
   "outputs": [],
   "source": [
    "x_test_transformed = vec.transform(test.values())\n",
    "x_test_transformed1 = trSVD.transform(x_test_transformed)"
   ]
  },
  {
   "cell_type": "code",
   "execution_count": 9,
   "metadata": {},
   "outputs": [],
   "source": [
    "predictions = svm.predict(x_test_transformed1)"
   ]
  },
  {
   "cell_type": "code",
   "execution_count": null,
   "metadata": {},
   "outputs": [],
   "source": [
    "df = pd.Series(predictions, index = test.keys())\n",
    "df.to_csv(\"pred_of_test_data.csv\")"
   ]
  },
  {
   "cell_type": "code",
   "execution_count": null,
   "metadata": {},
   "outputs": [],
   "source": []
  },
  {
   "cell_type": "code",
   "execution_count": 10,
   "metadata": {},
   "outputs": [
    {
     "name": "stdout",
     "output_type": "stream",
     "text": [
      "098ba37a8d9dae464f31575f702fb451     'charmap' codec can't decode byte 0x90 in position 155: character maps to <undefined>\n",
      "2740b227af3ea250035dabca65094bc8     'charmap' codec can't decode byte 0x81 in position 87: character maps to <undefined>\n",
      "5f11d8a167e5bdd2543e835dc96c6829     'charmap' codec can't decode byte 0x81 in position 42: character maps to <undefined>\n",
      "60212acd3c564c5ca1f1f731f3286fac     'charmap' codec can't decode byte 0x9d in position 681: character maps to <undefined>\n",
      "a31ffffd5552be22ca2d7376006740f0     'charmap' codec can't decode byte 0x9d in position 688: character maps to <undefined>\n",
      "caa904eee987235577bfffcc101de588     'charmap' codec can't decode byte 0x8f in position 89: character maps to <undefined>\n"
     ]
    }
   ],
   "source": [
    "errors_decoding = []\n",
    "for filename in filenames_test:\n",
    "    with open(os.path.join(os.getcwd(), \"ch01-test\", filename), mode = 'r') as f:\n",
    "        try:\n",
    "            f.read()\n",
    "        except UnicodeDecodeError as error:\n",
    "            errors_decoding.append(filename)\n",
    "            print(filename, \"   \", error)"
   ]
  },
  {
   "cell_type": "code",
   "execution_count": 11,
   "metadata": {},
   "outputs": [
    {
     "ename": "NameError",
     "evalue": "name 'df' is not defined",
     "output_type": "error",
     "traceback": [
      "\u001b[1;31m---------------------------------------------------------------------------\u001b[0m",
      "\u001b[1;31mNameError\u001b[0m                                 Traceback (most recent call last)",
      "\u001b[1;32m<ipython-input-11-198e0a3d3884>\u001b[0m in \u001b[0;36m<module>\u001b[1;34m\u001b[0m\n\u001b[1;32m----> 1\u001b[1;33m \u001b[0ma\u001b[0m \u001b[1;33m=\u001b[0m \u001b[1;33m[\u001b[0m\u001b[0mdf\u001b[0m\u001b[1;33m[\u001b[0m\u001b[0mindex\u001b[0m\u001b[1;33m]\u001b[0m \u001b[1;32mfor\u001b[0m \u001b[0mindex\u001b[0m \u001b[1;32min\u001b[0m \u001b[0mlist\u001b[0m\u001b[1;33m(\u001b[0m\u001b[0mdf\u001b[0m\u001b[1;33m.\u001b[0m\u001b[0mindex\u001b[0m\u001b[1;33m)\u001b[0m \u001b[1;32mif\u001b[0m \u001b[0mindex\u001b[0m \u001b[1;32min\u001b[0m \u001b[0merrors_decoding\u001b[0m\u001b[1;33m]\u001b[0m\u001b[1;33m\u001b[0m\u001b[1;33m\u001b[0m\u001b[0m\n\u001b[0m",
      "\u001b[1;31mNameError\u001b[0m: name 'df' is not defined"
     ]
    }
   ],
   "source": [
    "a = [df[index] for index in list(df.index) if index in errors_decoding]"
   ]
  },
  {
   "cell_type": "code",
   "execution_count": null,
   "metadata": {},
   "outputs": [],
   "source": [
    "a"
   ]
  },
  {
   "cell_type": "code",
   "execution_count": null,
   "metadata": {},
   "outputs": [],
   "source": []
  },
  {
   "cell_type": "code",
   "execution_count": null,
   "metadata": {},
   "outputs": [],
   "source": []
  },
  {
   "cell_type": "code",
   "execution_count": null,
   "metadata": {},
   "outputs": [],
   "source": []
  }
 ],
 "metadata": {
  "kernelspec": {
   "display_name": "Python 3",
   "language": "python",
   "name": "python3"
  },
  "language_info": {
   "codemirror_mode": {
    "name": "ipython",
    "version": 3
   },
   "file_extension": ".py",
   "mimetype": "text/x-python",
   "name": "python",
   "nbconvert_exporter": "python",
   "pygments_lexer": "ipython3",
   "version": "3.7.4"
  }
 },
 "nbformat": 4,
 "nbformat_minor": 2
}
