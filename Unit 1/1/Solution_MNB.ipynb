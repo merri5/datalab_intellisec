{
 "cells": [
  {
   "cell_type": "code",
   "execution_count": 1,
   "metadata": {},
   "outputs": [],
   "source": [
    "import numpy as np\n",
    "import pandas as pd\n",
    "import os\n",
    "\n",
    "from collections import OrderedDict\n",
    "\n",
    "from sklearn.naive_bayes import MultinomialNB\n",
    "from sklearn.metrics import balanced_accuracy_score\n",
    "from sklearn.feature_extraction.text import CountVectorizer"
   ]
  },
  {
   "cell_type": "markdown",
   "metadata": {},
   "source": [
    "# Read Data"
   ]
  },
  {
   "cell_type": "code",
   "execution_count": 2,
   "metadata": {},
   "outputs": [],
   "source": [
    "path_train = os.path.join(os.getcwd(), \"ch01-train\")\n",
    "filenames_train = os.listdir(path_train)\n",
    "\n",
    "data = OrderedDict()\n",
    "labels = []\n",
    "errors_decoding_train = []\n",
    "for filename in filenames_train:\n",
    "    with open(os.path.join(os.getcwd(), \"ch01-train\", filename), mode = 'r', encoding = 'latin-1') as f:\n",
    "        try:\n",
    "            data[filename] = f.read()\n",
    "            labels.append(filename[-1])\n",
    "        except UnicodeDecodeError as error:\n",
    "            errors_decoding_train.append(filename)\n",
    "            print(filename, \"   \", error)"
   ]
  },
  {
   "cell_type": "code",
   "execution_count": 3,
   "metadata": {},
   "outputs": [],
   "source": [
    "path_test = os.path.join(os.getcwd(), \"ch01-test\")\n",
    "filenames_test = os.listdir(path_test)\n",
    "\n",
    "test = OrderedDict()\n",
    "errors_decoding = []\n",
    "for filename in filenames_test:\n",
    "    with open(os.path.join(os.getcwd(), \"ch01-test\", filename), mode = 'r', encoding = 'latin-1') as f:\n",
    "        try:\n",
    "            test[filename] = f.read()\n",
    "        except UnicodeDecodeError as error:\n",
    "            errors_decoding.append(filename)\n",
    "            print(filename, \"   \", error)"
   ]
  },
  {
   "cell_type": "code",
   "execution_count": 4,
   "metadata": {},
   "outputs": [],
   "source": [
    "vectorizer = CountVectorizer()\n",
    "\n",
    "X_train = vectorizer.fit_transform(data.values())\n",
    "\n",
    "X_test = vectorizer.transform(test.values())"
   ]
  },
  {
   "cell_type": "markdown",
   "metadata": {},
   "source": [
    "# Model "
   ]
  },
  {
   "cell_type": "code",
   "execution_count": 5,
   "metadata": {},
   "outputs": [],
   "source": [
    "mnb = MultinomialNB()\n",
    "\n",
    "mnb.fit(X_train, labels)\n",
    "\n",
    "predictions = mnb.predict(X_test)"
   ]
  },
  {
   "cell_type": "code",
   "execution_count": 6,
   "metadata": {},
   "outputs": [
    {
     "name": "stderr",
     "output_type": "stream",
     "text": [
      "c:\\users\\m\\anaconda3\\lib\\site-packages\\ipykernel_launcher.py:1: FutureWarning: The signature of `Series.to_csv` was aligned to that of `DataFrame.to_csv`, and argument 'header' will change its default value from False to True: please pass an explicit value to suppress this warning.\n",
      "  \"\"\"Entry point for launching an IPython kernel.\n"
     ]
    }
   ],
   "source": [
    "pd.Series(predictions, index = test.keys()).to_csv(\"pred_of_test_data.csv\")"
   ]
  }
 ],
 "metadata": {
  "kernelspec": {
   "display_name": "Python 3",
   "language": "python",
   "name": "python3"
  },
  "language_info": {
   "codemirror_mode": {
    "name": "ipython",
    "version": 3
   },
   "file_extension": ".py",
   "mimetype": "text/x-python",
   "name": "python",
   "nbconvert_exporter": "python",
   "pygments_lexer": "ipython3",
   "version": "3.7.4"
  }
 },
 "nbformat": 4,
 "nbformat_minor": 2
}
