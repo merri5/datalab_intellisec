{
 "cells": [
  {
   "cell_type": "code",
   "execution_count": 1,
   "metadata": {},
   "outputs": [],
   "source": [
    "import pandas as pd\n",
    "import numpy as np\n",
    "import cv2\n",
    "import os\n",
    "\n",
    "from joblib import Parallel, delayed\n",
    "\n",
    "from matplotlib import pyplot as plt\n",
    "\n",
    "from sklearn.mixture import GaussianMixture\n",
    "import numpy as np"
   ]
  },
  {
   "cell_type": "code",
   "execution_count": 2,
   "metadata": {},
   "outputs": [],
   "source": [
    "def data_benign(path, filenames):\n",
    "    my_x = []\n",
    "    my_y_np = np.array([])\n",
    "    \n",
    "    \n",
    "    for filename in filenames:\n",
    "        \n",
    "        my_x.append(cv2.imread(os.path.join(path, filename), 0))\n",
    "        my_y_np= np.append(my_y_np, np.array(0).astype(np.uint8))\n",
    "        \n",
    "    return np.array(my_x), my_y_np"
   ]
  },
  {
   "cell_type": "code",
   "execution_count": 3,
   "metadata": {},
   "outputs": [],
   "source": [
    "def data_adversarial(path, filenames):\n",
    "    my_x = []\n",
    "    my_y_np = np.array([])\n",
    "    \n",
    "    \n",
    "    for filename in filenames:\n",
    "        \n",
    "        my_x.append(cv2.imread(os.path.join(path, filename), 0))\n",
    "        my_y_np= np.append(my_y_np, np.array(1).astype(np.uint8))\n",
    "        \n",
    "    return np.array(my_x), my_y_np"
   ]
  },
  {
   "cell_type": "code",
   "execution_count": 4,
   "metadata": {},
   "outputs": [],
   "source": [
    "def data_test(path, filenames):\n",
    "    my_x = []\n",
    "    \n",
    "    for filename in filenames:\n",
    "        \n",
    "        my_x.append(cv2.imread(os.path.join(path, filename), 0))\n",
    "        \n",
    "    return np.array(my_x)"
   ]
  },
  {
   "cell_type": "markdown",
   "metadata": {},
   "source": [
    "# Read data"
   ]
  },
  {
   "cell_type": "code",
   "execution_count": 5,
   "metadata": {},
   "outputs": [],
   "source": [
    "path_train_benign = os.path.join(os.getcwd(), \"ch01-train\")\n",
    "filenames_train_benign = os.listdir(path_train_benign)\n",
    "\n",
    "path_train_adversarial = os.path.join(os.getcwd(), \"ch02-train\")\n",
    "filenames_train_adversarial = os.listdir(path_train_adversarial)\n",
    "\n",
    "path_test = os.path.join(os.getcwd(), \"ch02-test\")\n",
    "filenames_test = os.listdir(path_test)"
   ]
  },
  {
   "cell_type": "code",
   "execution_count": 6,
   "metadata": {},
   "outputs": [],
   "source": [
    "X,y = data_benign(path_train_benign, filenames_train_benign)"
   ]
  },
  {
   "cell_type": "code",
   "execution_count": 7,
   "metadata": {},
   "outputs": [
    {
     "data": {
      "text/plain": [
       "(60000, 28, 28)"
      ]
     },
     "execution_count": 7,
     "metadata": {},
     "output_type": "execute_result"
    }
   ],
   "source": [
    "X.shape"
   ]
  },
  {
   "cell_type": "code",
   "execution_count": 8,
   "metadata": {},
   "outputs": [
    {
     "data": {
      "text/plain": [
       "(60000, 784)"
      ]
     },
     "execution_count": 8,
     "metadata": {},
     "output_type": "execute_result"
    }
   ],
   "source": [
    "X = X.reshape(60000,-1)\n",
    "X.shape"
   ]
  },
  {
   "cell_type": "code",
   "execution_count": 9,
   "metadata": {},
   "outputs": [],
   "source": [
    "X_adversarial, y_adversarial = data_adversarial(path_train_adversarial, filenames_train_adversarial)"
   ]
  },
  {
   "cell_type": "code",
   "execution_count": 10,
   "metadata": {},
   "outputs": [
    {
     "data": {
      "text/plain": [
       "(60000, 784)"
      ]
     },
     "execution_count": 10,
     "metadata": {},
     "output_type": "execute_result"
    }
   ],
   "source": [
    "X_adversarial = X_adversarial.reshape(60000,-1)\n",
    "X_adversarial.shape"
   ]
  },
  {
   "cell_type": "markdown",
   "metadata": {},
   "source": [
    "# Model benign data"
   ]
  },
  {
   "cell_type": "code",
   "execution_count": 11,
   "metadata": {},
   "outputs": [],
   "source": [
    "def get_quality_of_model(gmm_model, X, criteria='bic'):\n",
    "    if X.ndim ==1:\n",
    "        X = X.reshape(-1,1)\n",
    "        \n",
    "    if criteria == 'bic':\n",
    "        return gmm_model.bic(X)\n",
    "    elif criteria == 'aic':\n",
    "        return gmm_model.aic(X)\n",
    "    else:\n",
    "        print('nooo, select criteria plz !')\n",
    "\n",
    "def parallel_get_best_gmm_for_data(X, max_number_of_components=10):\n",
    "    ''' This function gives you the best gmm '''\n",
    "    \n",
    "    # create a model for each component from 1 to max_number_of_components\n",
    "    gmm_comp_fit_func = lambda c : GaussianMixture(n_components=c, covariance_type='diag').fit(X)\n",
    "    \n",
    "    candidates = Parallel(n_jobs=10)(delayed(gmm_comp_fit_func)(components) \n",
    "                                         for components in range(1, max_number_of_components))\n",
    "    \n",
    "    # get the quality of all the models\n",
    "    gmm_quality = [get_quality_of_model(mod, X, criteria='bic') for mod in candidates]\n",
    "    \n",
    "    # select the model with the best gmm_quality\n",
    "    best_gmm_index = np.argmin(gmm_quality)\n",
    "    \n",
    "    print('Used components : ', best_gmm_index + 1)\n",
    "    \n",
    "    return candidates[best_gmm_index]"
   ]
  },
  {
   "cell_type": "code",
   "execution_count": 12,
   "metadata": {},
   "outputs": [
    {
     "name": "stdout",
     "output_type": "stream",
     "text": [
      "Used components :  9\n",
      "Wall time: 3min 42s\n"
     ]
    }
   ],
   "source": [
    "%%time\n",
    "mega_gmm = parallel_get_best_gmm_for_data(X, max_number_of_components=10)"
   ]
  },
  {
   "cell_type": "markdown",
   "metadata": {},
   "source": [
    "# Get predictions of benign and (m)adversarial "
   ]
  },
  {
   "cell_type": "code",
   "execution_count": 13,
   "metadata": {},
   "outputs": [],
   "source": [
    "guts = mega_gmm.score_samples(X)\n",
    "bads = mega_gmm.score_samples(X_adversarial)"
   ]
  },
  {
   "cell_type": "markdown",
   "metadata": {},
   "source": [
    "# Investigating threshold"
   ]
  },
  {
   "cell_type": "code",
   "execution_count": 14,
   "metadata": {},
   "outputs": [
    {
     "data": {
      "text/plain": [
       "(-457.9932528078715, -154372769180.05084)"
      ]
     },
     "execution_count": 14,
     "metadata": {},
     "output_type": "execute_result"
    }
   ],
   "source": [
    "guts.mean(), bads.mean()"
   ]
  },
  {
   "cell_type": "code",
   "execution_count": 15,
   "metadata": {},
   "outputs": [
    {
     "data": {
      "text/plain": [
       "(1198.5852919404508, 85277479735.48149)"
      ]
     },
     "execution_count": 15,
     "metadata": {},
     "output_type": "execute_result"
    }
   ],
   "source": [
    "guts.std(), bads.std()"
   ]
  },
  {
   "cell_type": "code",
   "execution_count": 16,
   "metadata": {},
   "outputs": [
    {
     "data": {
      "text/plain": [
       "-142600.45958363757"
      ]
     },
     "execution_count": 16,
     "metadata": {},
     "output_type": "execute_result"
    }
   ],
   "source": [
    "guts.min()"
   ]
  },
  {
   "cell_type": "code",
   "execution_count": 17,
   "metadata": {},
   "outputs": [
    {
     "data": {
      "text/plain": [
       "-140313.37577727443"
      ]
     },
     "execution_count": 17,
     "metadata": {},
     "output_type": "execute_result"
    }
   ],
   "source": [
    "np.quantile(guts, q=.000001)"
   ]
  },
  {
   "cell_type": "code",
   "execution_count": 18,
   "metadata": {},
   "outputs": [
    {
     "data": {
      "text/plain": [
       "-256496479.23354307"
      ]
     },
     "execution_count": 18,
     "metadata": {},
     "output_type": "execute_result"
    }
   ],
   "source": [
    "np.quantile(bads, q=.999999)"
   ]
  },
  {
   "cell_type": "code",
   "execution_count": 19,
   "metadata": {},
   "outputs": [
    {
     "data": {
      "text/plain": [
       "''"
      ]
     },
     "execution_count": 19,
     "metadata": {},
     "output_type": "execute_result"
    },
    {
     "data": {
      "image/png": "[encoded data removed]",
      "text/plain": [
       "<Figure size 1080x360 with 1 Axes>"
      ]
     },
     "metadata": {
      "needs_background": "light"
     },
     "output_type": "display_data"
    }
   ],
   "source": [
    "plt.figure(figsize=(15,5))\n",
    "plt.hist(guts.clip(-5000, 0), bins=100, density=True, label='guts');\n",
    "plt.hist(bads.clip(-5000, 0), bins=100, density=True, label='bads')\n",
    "plt.legend();"
   ]
  },
  {
   "cell_type": "markdown",
   "metadata": {},
   "source": [
    "# Classifier"
   ]
  },
  {
   "cell_type": "code",
   "execution_count": 20,
   "metadata": {},
   "outputs": [],
   "source": [
    "def classifier(x):\n",
    "    \n",
    "    return int(mega_gmm.score_samples(x.reshape(1,-1)) < guts.min())"
   ]
  },
  {
   "cell_type": "markdown",
   "metadata": {},
   "source": [
    "# Predict"
   ]
  },
  {
   "cell_type": "code",
   "execution_count": 21,
   "metadata": {},
   "outputs": [],
   "source": [
    "X_test = data_test(path_test, filenames_test)"
   ]
  },
  {
   "cell_type": "code",
   "execution_count": 22,
   "metadata": {},
   "outputs": [
    {
     "data": {
      "text/plain": [
       "(10000, 784)"
      ]
     },
     "execution_count": 22,
     "metadata": {},
     "output_type": "execute_result"
    }
   ],
   "source": [
    "X_test = X_test.reshape(10000,-1)\n",
    "X_test.shape"
   ]
  },
  {
   "cell_type": "code",
   "execution_count": 23,
   "metadata": {},
   "outputs": [],
   "source": [
    "preds = []\n",
    "for x in X_test:\n",
    "    preds.append(classifier(x.reshape(1,-1)))"
   ]
  },
  {
   "cell_type": "code",
   "execution_count": 25,
   "metadata": {},
   "outputs": [
    {
     "name": "stderr",
     "output_type": "stream",
     "text": [
      "c:\\users\\m\\anaconda3\\lib\\site-packages\\ipykernel_launcher.py:1: FutureWarning: The signature of `Series.to_csv` was aligned to that of `DataFrame.to_csv`, and argument 'header' will change its default value from False to True: please pass an explicit value to suppress this warning.\n",
      "  \"\"\"Entry point for launching an IPython kernel.\n"
     ]
    }
   ],
   "source": [
    "pd.Series(preds, index = filenames_test).to_csv(\"test_predictions_gmm.csv\", header = None)"
   ]
  }
 ],
 "metadata": {
  "kernelspec": {
   "display_name": "Python 3",
   "language": "python",
   "name": "python3"
  },
  "language_info": {
   "codemirror_mode": {
    "name": "ipython",
    "version": 3
   },
   "file_extension": ".py",
   "mimetype": "text/x-python",
   "name": "python",
   "nbconvert_exporter": "python",
   "pygments_lexer": "ipython3",
   "version": "3.7.4"
  }
 },
 "nbformat": 4,
 "nbformat_minor": 2
}
