{
 "cells": [
  {
   "cell_type": "code",
   "execution_count": 1,
   "metadata": {},
   "outputs": [],
   "source": [
    "import pandas as pd\n",
    "import numpy as np\n",
    "from collections import defaultdict"
   ]
  },
  {
   "cell_type": "code",
   "execution_count": 2,
   "metadata": {},
   "outputs": [],
   "source": [
    "df_train = pd.read_csv(\"train.csv\", delimiter = \",\", encoding='latin1') # i needed to specify delimiter and encoding\n",
    "df1_train = df_train[df_train[\"Protocol\"] == \"FTP\"]\n",
    "\n",
    "data_train = df1_train.to_numpy()\n",
    "\n",
    "df_test = pd.read_csv(\"test.csv\", delimiter = \",\", encoding='latin1') # i needed to specify delimiter and encoding\n",
    "df1_test = df_test[df_test[\"Protocol\"] == \"FTP\"]\n",
    "\n",
    "data_test = df1_test.to_numpy()"
   ]
  },
  {
   "cell_type": "code",
   "execution_count": 3,
   "metadata": {},
   "outputs": [],
   "source": [
    "def add_folders(server, key):\n",
    "    key_split = key.split(\"/\")\n",
    "    for i in range(0, len(key_split)):\n",
    "        if \"/\".join(key_split[0:i]) not in server:\n",
    "            server[\"/\".join(key_split[0:i])] =  \"d\""
   ]
  },
  {
   "cell_type": "code",
   "execution_count": 4,
   "metadata": {},
   "outputs": [],
   "source": [
    "def analyze(server, data):\n",
    "    current_path = \"/\"\n",
    "\n",
    "    for ind in range(0, len(data)):\n",
    "        row = data[ind,6]\n",
    "        row_split = row.split(\" \")\n",
    "\n",
    "    #   a new user has login => set current path to default path\n",
    "        if row_split[0] == \"Response:\" and row_split[1] == \"230\": \n",
    "            current_path = \"/\"\n",
    "\n",
    "        if row_split[0] == \"Request:\" and row_split[1] == \"CWD\": \n",
    "            if(row_split[2] == \"/\"): current_path = \"/\"\n",
    "            elif(ind + 1 < len(data)):\n",
    "                response = data[ind + 1,6].split(\" \")\n",
    "                if(response[0] == \"Response:\" and response[1] == \"250\"):\n",
    "                    result_path = current_path[1:].split(\"/\")\n",
    "                    add_path =  row_split[2].split(\"/\")\n",
    "                    while True:\n",
    "                        if len(add_path) == 0 or add_path[0] != \"..\" : break\n",
    "                        else :\n",
    "                            add_path = add_path[1:]\n",
    "                            result_path = result_path[:-1]\n",
    "                    current_path = \"/\"\n",
    "                    if(result_path != [\"\"]):\n",
    "                        current_path += \"/\".join(list(result_path))\n",
    "                    if(add_path != [\"\"]):\n",
    "                        if(current_path != \"/\"): \n",
    "                            current_path += \"/\" \n",
    "                        current_path += \"/\".join(list(add_path))\n",
    "            server[current_path] = \"d\"\n",
    "            add_folders(server,current_path)\n",
    "\n",
    "\n",
    "        if row_split[0] == \"Request:\" and row_split[1] == \"CDUP\":\n",
    "            result_path = current_path.split(\"/\")\n",
    "            if(ind + 1 < len(data)):\n",
    "                result_path = result_path[:-1]\n",
    "                current_path = \"/\"\n",
    "                if(result_path != [\"\"]):\n",
    "                    current_path += \"/\".join(list(result_path))\n",
    "\n",
    "\n",
    "\n",
    "        if row_split[0] == \"Request:\" and row_split[1] == \"DELE\": \n",
    "            if(ind + 1 < len(data)):\n",
    "                response = data[ind + 1,6].split(\" \")\n",
    "                if(response[0] == \"Response:\" and response[1] == \"250\"):\n",
    "                    if(current_path == \"/\"):\n",
    "                        a = server.pop(current_path + row_split[2], None)\n",
    "                    else:\n",
    "                        a = server.pop(current_path + \"/\" + row_split[2], None)\n",
    "\n",
    "        if row_split[0] == \"Request:\" and row_split[1] == \"MKD\": \n",
    "            if(ind + 1 < len(data)):\n",
    "                response = data[ind + 1,6].split(\" \")\n",
    "                if(response[0] == \"Response:\" and response[1] == \"550\" and response[-2] == \"File\" and response[-1]== \"exists\" ):\n",
    "                    if(current_path == \"/\"):\n",
    "                        server[current_path + row_split[2]] = \"d\"\n",
    "                    else:\n",
    "                        server[current_path + \"/\" + row_split[2]] = \"d\"\n",
    "                if(response[0] == \"Response:\" and response[1] == \"257\"):\n",
    "                    if(current_path == \"/\"):\n",
    "                        server[current_path + row_split[2]] = \"d\"\n",
    "                        add_folders(server,current_path + row_split[2])\n",
    "                    else:\n",
    "                        server[current_path + \"/\" + row_split[2]] = \"d\"\n",
    "                        add_folders(server,current_path + \"/\" + row_split[2])\n",
    "\n",
    "        if row_split[0] == \"Request:\" and row_split[1] == \"RETR\": \n",
    "            if(ind + 1 < len(data)):\n",
    "                response = data[ind + 1,6].split(\" \")\n",
    "                if(response[0] == \"Response:\" and response[1] == \"125\"):\n",
    "                    if(current_path == \"/\"):\n",
    "                        server[current_path + row_split[2]] = \"f\"\n",
    "                        add_folders(server,current_path + row_split[2])\n",
    "                    else:\n",
    "                        server[current_path + \"/\" + row_split[2]] = \"f\"\n",
    "                        add_folders(server,current_path + \"/\" + row_split[2])\n",
    "\n",
    "\n",
    "\n",
    "\n",
    "        if row_split[0] == \"Request:\" and row_split[1] == \"RNFR\": \n",
    "            if(ind + 3 < len(data)):\n",
    "                response1 = data[ind + 1,6].split(\" \")\n",
    "                request1 = data[ind + 2,6].split(\" \")\n",
    "                response2 = data[ind + 3,6].split(\" \")\n",
    "                if(response1[0] == \"Response:\" and response1[1] == \"350\" and request1[0] == \"Request:\" and request1[1] == \"RNTO\"):\n",
    "                    if(response2[0] == \"Response:\" and response2[1] == \"250\"):\n",
    "                        if(current_path == \"/\"):\n",
    "                            value = server.pop(current_path + row_split[2], None)\n",
    "                            if(value is None): server[current_path + request1[2]] = \"f\"\n",
    "                            else: server[current_path + request1[2]] = value\n",
    "                            add_folders(server,current_path + request1[2])\n",
    "\n",
    "                        else:\n",
    "                            value = server.pop(current_path + \"/\" + row_split[2], None)\n",
    "                            if(value is None): server[current_path + request1[2]] = \"f\"\n",
    "                            else: server[current_path + request1[2]] = value\n",
    "                            add_folders(server,current_path + request1[2])\n",
    "\n",
    "                    #'''verifying that the file does not exsist in the server for sure'''\n",
    "                    elif(response2[0] == \"Response:\" and response2[1] == \"550\"):\n",
    "                        if(current_path == \"/\"):\n",
    "                            a = server.pop(current_path + row_split[2], None)\n",
    "                        else:\n",
    "                            a = server.pop(current_path + \"/\" + row_split[2], None)\n",
    "\n",
    "        if row_split[0] == \"Request:\" and row_split[1] == \"STOR\": \n",
    "            if(ind + 1 < len(data)):\n",
    "                response = data[ind + 1,6].split(\" \")\n",
    "                if(response[0] == \"Response:\" and response[1] == \"125\"):\n",
    "                    server[current_path + \"/\" + row_split[2]] = \"f\"\n",
    "                    add_folders(server,current_path + \"/\" + row_split[2])\n"
   ]
  },
  {
   "cell_type": "code",
   "execution_count": 5,
   "metadata": {},
   "outputs": [],
   "source": [
    "server = {}\n",
    "analyze(server,data_train)"
   ]
  },
  {
   "cell_type": "code",
   "execution_count": 6,
   "metadata": {},
   "outputs": [],
   "source": [
    "analyze(server,data_test)"
   ]
  },
  {
   "cell_type": "code",
   "execution_count": 7,
   "metadata": {},
   "outputs": [
    {
     "data": {
      "text/plain": [
       "'d'"
      ]
     },
     "execution_count": 7,
     "metadata": {},
     "output_type": "execute_result"
    }
   ],
   "source": [
    "server.pop(\"\")\n",
    "server.pop(\"/\")"
   ]
  },
  {
   "cell_type": "code",
   "execution_count": 8,
   "metadata": {},
   "outputs": [
    {
     "name": "stderr",
     "output_type": "stream",
     "text": [
      "c:\\users\\m\\anaconda3\\lib\\site-packages\\ipykernel_launcher.py:1: FutureWarning: The signature of `Series.to_csv` was aligned to that of `DataFrame.to_csv`, and argument 'header' will change its default value from False to True: please pass an explicit value to suppress this warning.\n",
      "  \"\"\"Entry point for launching an IPython kernel.\n"
     ]
    }
   ],
   "source": [
    "pd.Series(list(server.values()), index = list(server.keys())).to_csv(\"server.csv\")"
   ]
  }
 ],
 "metadata": {
  "kernelspec": {
   "display_name": "Python 3",
   "language": "python",
   "name": "python3"
  },
  "language_info": {
   "codemirror_mode": {
    "name": "ipython",
    "version": 3
   },
   "file_extension": ".py",
   "mimetype": "text/x-python",
   "name": "python",
   "nbconvert_exporter": "python",
   "pygments_lexer": "ipython3",
   "version": "3.7.4"
  }
 },
 "nbformat": 4,
 "nbformat_minor": 2
}
