{
 "cells": [
  {
   "cell_type": "code",
   "execution_count": 1,
   "metadata": {},
   "outputs": [],
   "source": [
    "import pandas as pd\n",
    "import numpy as np\n",
    "import re"
   ]
  },
  {
   "cell_type": "code",
   "execution_count": 2,
   "metadata": {},
   "outputs": [],
   "source": [
    "df = pd.read_csv(\"test.csv\", delimiter = \",\", encoding='latin1') # i needed to specify delimiter and encoding\n",
    "data = df.to_numpy()\n",
    "\n",
    "data = np.insert(data, 0, 0, axis = 1)\n",
    "data = np.insert(data, 0, 0, axis = 1)"
   ]
  },
  {
   "cell_type": "code",
   "execution_count": 3,
   "metadata": {},
   "outputs": [],
   "source": [
    "# pd.DataFrame(data,index=data[:,0])"
   ]
  },
  {
   "cell_type": "code",
   "execution_count": 4,
   "metadata": {},
   "outputs": [],
   "source": [
    "current_source_port = \"\"\n",
    "current_dest_port = \"\"\n",
    "for ind in range(0, len(data)):\n",
    "    if(ind + 2 < len(data)):\n",
    "        if data[ind,6] == \"TCP\" and data[ind + 1,6] == \"TCP\" and data[ind + 2,6] == \"TCP\":\n",
    "            packet = data[ind,8].replace(\"  \",\" \").split(\" \")\n",
    "            if(packet[3] == \"[SYN]\" ):\n",
    "                current_source_port = packet[0]\n",
    "                current_dest_port = packet[2]\n",
    "    data[ind,0] = current_source_port\n",
    "    data[ind,1] = current_dest_port"
   ]
  },
  {
   "cell_type": "code",
   "execution_count": 5,
   "metadata": {},
   "outputs": [],
   "source": [
    "# pd.DataFrame(data,index=data[:,0])"
   ]
  },
  {
   "cell_type": "code",
   "execution_count": 6,
   "metadata": {},
   "outputs": [],
   "source": [
    "data_ftp = data[data[:,6] == \"FTP\"]"
   ]
  },
  {
   "cell_type": "code",
   "execution_count": 7,
   "metadata": {},
   "outputs": [],
   "source": [
    "def match_CWD(string):\n",
    "    if re.fullmatch(\"^(Request:\\sCWD\\s)([a-zA-Z0-9]+/)*([a-zA-Z0-9]+)$\", string):\n",
    "        return True\n",
    "    elif re.fullmatch(\"^(Request:\\sCWD\\s)/$\", string):\n",
    "        return True\n",
    "    elif re.fullmatch(\"^(Request:\\sCWD\\s)(..(/..)*)$\", string):\n",
    "        return True\n",
    "    elif re.fullmatch(\"^(Request:\\sCWD\\s)\\.$\", string):\n",
    "        return True\n",
    "    return False\n",
    "\n",
    "\n",
    "def match_MKD(string):\n",
    "    return re.fullmatch(\"^(Request:\\sMKD\\s)([a-zA-Z0-9]+/)*([a-zA-Z0-9]+)$\", string)\n",
    "\n",
    "def match_USER(string):\n",
    "    return re.fullmatch(\"^Request:\\sUSER\\s([a-zA-Z0-9]+)$\", string)\n",
    "    \n",
    "def match_LIST(string):  \n",
    "    return re.fullmatch(\"^Request:\\sLIST$\", string)\n",
    "\n",
    "def match_RNFR(string):  \n",
    "    return re.fullmatch(\"^Request:\\sRNFR\\s([a-zA-Z0-9]+/)*([a-zA-Z0-9]+)$\", string)\n",
    "    \n",
    "def match_RNTO(string):  \n",
    "    return re.fullmatch(\"^Request:\\sRNTO\\s([a-zA-Z0-9]+/)*([a-zA-Z0-9]+)$\", string)\n",
    "\n",
    "def match_DELE(string): \n",
    "    return re.fullmatch(\"^Request:\\sDELE\\s([a-zA-Z0-9]+/)*([a-zA-Z0-9]+)$\", string)\n",
    "\n",
    "def match_PASS(string): \n",
    "    return re.fullmatch(\"^Request:\\sPASS\\s([a-zA-Z0-9]+)$\", string)\n",
    "\n",
    "def match_STOR(string): \n",
    "    return re.fullmatch(\"^Request:\\sSTOR\\s([a-zA-Z0-9]+)$\", string)\n",
    "\n",
    "def match_PWD(string): \n",
    "    return re.fullmatch(\"^Request:\\sPWD$\", string)\n",
    "\n",
    "def match_PASV(string): \n",
    "    return  re.fullmatch(\"^Request:\\sPASV$\", string)\n",
    "\n",
    "def match_CDUP(string): \n",
    "    return re.fullmatch(\"^Request:\\sCDUP$\", string)\n",
    "\n",
    "def match_RETR(string): \n",
    "    return re.fullmatch(\"^Request:\\sRETR\\s([a-zA-Z0-9]+/)*([a-zA-Z0-9]+)$\", string)\n",
    "\n",
    "def match_QUIT(string): \n",
    "    return re.fullmatch(\"^Request:\\sQUIT$\", string)\n",
    "\n",
    "def match_TYPE(string): \n",
    "    if re.fullmatch(\"^Request:\\sTYPE\\sI$\", string):\n",
    "        return True\n",
    "    elif re.fullmatch(\"^Request:\\sTYPE\\sA$\", string):\n",
    "        return True\n",
    "    return False"
   ]
  },
  {
   "cell_type": "code",
   "execution_count": 8,
   "metadata": {},
   "outputs": [],
   "source": [
    "def match_incoming(string):\n",
    "    return match_CWD(string) or match_MKD(string) or match_USER(string) or match_LIST(string) or match_RNFR(string) or match_RNTO(string) or match_DELE(string) or match_PASS(string) or match_STOR(string) or match_PWD(string) or match_PASV(string) or match_CDUP(string) or match_RETR(string) or match_QUIT(string) or match_TYPE(string)"
   ]
  },
  {
   "cell_type": "code",
   "execution_count": 9,
   "metadata": {},
   "outputs": [],
   "source": [
    "result = {}\n",
    "\n",
    "for entry in data_ftp:\n",
    "    if(entry[5] == \"127.0.0.1\"): \n",
    "        result[\"{}:{}->{}:{}\".format(entry[4],entry[0], entry[5], entry[1])] = \"0\"\n",
    "            \n",
    "            \n",
    "for entry in data_ftp:\n",
    "    if(entry[5] == \"127.0.0.1\"): \n",
    "#         print(entry)\n",
    "        if(not match_incoming(entry[8])):\n",
    "            print(\"{}:{}->{}:{}\".format(entry[4],entry[0], entry[5], entry[1]))\n",
    "            result[\"{}:{}->{}:{}\".format(entry[4],entry[0], entry[5], entry[1])] = \"1\"\n"
   ]
  },
  {
   "cell_type": "code",
   "execution_count": 14,
   "metadata": {},
   "outputs": [
    {
     "name": "stdout",
     "output_type": "stream",
     "text": [
      "192.168.100.78:41789->127.0.0.1:21 1\n",
      "192.168.100.45:34031->127.0.0.1:21 1\n",
      "192.168.100.166:46253->127.0.0.1:21 1\n",
      "192.168.100.139:37409->127.0.0.1:21 1\n",
      "192.168.100.174:53375->127.0.0.1:21 1\n",
      "192.168.100.192:42511->127.0.0.1:21 1\n",
      "192.168.100.104:45281->127.0.0.1:21 1\n",
      "192.168.100.26:59933->127.0.0.1:21 1\n",
      "192.168.100.113:34263->127.0.0.1:21 1\n",
      "192.168.100.199:44907->127.0.0.1:21 1\n",
      "192.168.100.115:53867->127.0.0.1:21 1\n",
      "192.168.100.236:57337->127.0.0.1:21 1\n",
      "192.168.100.150:42413->127.0.0.1:21 1\n",
      "192.168.100.215:47111->127.0.0.1:21 1\n",
      "192.168.100.171:35647->127.0.0.1:21 1\n",
      "192.168.100.181:43303->127.0.0.1:21 1\n",
      "192.168.100.163:42007->127.0.0.1:21 1\n",
      "192.168.100.11:33899->127.0.0.1:21 1\n",
      "192.168.100.183:36821->127.0.0.1:21 1\n",
      "192.168.100.83:50933->127.0.0.1:21 1\n",
      "192.168.100.2:35613->127.0.0.1:21 1\n",
      "192.168.100.251:42555->127.0.0.1:21 1\n",
      "192.168.100.160:33119->127.0.0.1:21 1\n",
      "192.168.100.44:56855->127.0.0.1:21 1\n",
      "192.168.100.122:34487->127.0.0.1:21 1\n",
      "192.168.100.99:53585->127.0.0.1:21 1\n",
      "192.168.100.44:37061->127.0.0.1:21 1\n",
      "192.168.100.47:53873->127.0.0.1:21 1\n",
      "192.168.100.14:52125->127.0.0.1:21 1\n",
      "192.168.100.80:55449->127.0.0.1:21 1\n",
      "192.168.100.75:34365->127.0.0.1:21 1\n",
      "192.168.100.188:53359->127.0.0.1:21 1\n",
      "192.168.100.74:59501->127.0.0.1:21 1\n",
      "192.168.100.193:58875->127.0.0.1:21 1\n",
      "192.168.100.223:57205->127.0.0.1:21 1\n",
      "192.168.100.84:52257->127.0.0.1:21 1\n",
      "192.168.100.13:59327->127.0.0.1:21 1\n",
      "192.168.100.36:43659->127.0.0.1:21 1\n",
      "192.168.100.216:50163->127.0.0.1:21 1\n",
      "192.168.100.120:39317->127.0.0.1:21 1\n",
      "192.168.100.196:58131->127.0.0.1:21 1\n",
      "192.168.100.84:52869->127.0.0.1:21 1\n",
      "192.168.100.75:53853->127.0.0.1:21 1\n",
      "192.168.100.178:40845->127.0.0.1:21 1\n",
      "192.168.100.22:52853->127.0.0.1:21 1\n",
      "192.168.100.145:58455->127.0.0.1:21 1\n",
      "192.168.100.147:50569->127.0.0.1:21 1\n",
      "192.168.100.10:37879->127.0.0.1:21 1\n",
      "192.168.100.183:53159->127.0.0.1:21 1\n",
      "192.168.100.230:56341->127.0.0.1:21 1\n",
      "192.168.100.197:43541->127.0.0.1:21 1\n",
      "192.168.100.246:55201->127.0.0.1:21 1\n",
      "192.168.100.102:47913->127.0.0.1:21 1\n",
      "192.168.100.223:48387->127.0.0.1:21 1\n",
      "192.168.100.174:35423->127.0.0.1:21 1\n",
      "192.168.100.118:48759->127.0.0.1:21 1\n",
      "192.168.100.32:41101->127.0.0.1:21 1\n",
      "192.168.100.3:36071->127.0.0.1:21 1\n",
      "192.168.100.64:44279->127.0.0.1:21 1\n",
      "192.168.100.92:40209->127.0.0.1:21 1\n",
      "192.168.100.177:40923->127.0.0.1:21 1\n",
      "192.168.100.163:53975->127.0.0.1:21 1\n",
      "192.168.100.221:54759->127.0.0.1:21 1\n",
      "192.168.100.207:59223->127.0.0.1:21 1\n",
      "192.168.100.82:33125->127.0.0.1:21 1\n",
      "192.168.100.234:45485->127.0.0.1:21 1\n",
      "192.168.100.209:44955->127.0.0.1:21 1\n",
      "192.168.100.178:34907->127.0.0.1:21 1\n",
      "192.168.100.1:54177->127.0.0.1:21 1\n",
      "192.168.100.145:35509->127.0.0.1:21 1\n",
      "192.168.100.185:44157->127.0.0.1:21 1\n",
      "192.168.100.200:48529->127.0.0.1:21 1\n",
      "192.168.100.4:48599->127.0.0.1:21 1\n",
      "192.168.100.95:37817->127.0.0.1:21 1\n",
      "192.168.100.124:57771->127.0.0.1:21 1\n",
      "192.168.100.170:49447->127.0.0.1:21 1\n",
      "192.168.100.12:38609->127.0.0.1:21 1\n",
      "192.168.100.202:60679->127.0.0.1:21 1\n",
      "192.168.100.243:59225->127.0.0.1:21 1\n",
      "192.168.100.181:43893->127.0.0.1:21 1\n",
      "192.168.100.245:50571->127.0.0.1:21 1\n",
      "192.168.100.182:37687->127.0.0.1:21 1\n",
      "192.168.100.116:47477->127.0.0.1:21 1\n",
      "192.168.100.47:51743->127.0.0.1:21 1\n",
      "192.168.100.98:55377->127.0.0.1:21 1\n",
      "192.168.100.169:40175->127.0.0.1:21 1\n",
      "192.168.100.187:34799->127.0.0.1:21 1\n",
      "192.168.100.22:58679->127.0.0.1:21 1\n"
     ]
    }
   ],
   "source": [
    "for i in result:\n",
    "    if(result[i] == \"1\"): \n",
    "        print(i, result[i])"
   ]
  },
  {
   "cell_type": "code",
   "execution_count": 11,
   "metadata": {},
   "outputs": [
    {
     "name": "stderr",
     "output_type": "stream",
     "text": [
      "c:\\users\\m\\anaconda3\\lib\\site-packages\\ipykernel_launcher.py:1: FutureWarning: The signature of `Series.to_csv` was aligned to that of `DataFrame.to_csv`, and argument 'header' will change its default value from False to True: please pass an explicit value to suppress this warning.\n",
      "  \"\"\"Entry point for launching an IPython kernel.\n"
     ]
    }
   ],
   "source": [
    "pd.Series(list(result.values()), index = list(result.keys())).to_csv(\"solution_1.csv\")"
   ]
  },
  {
   "cell_type": "code",
   "execution_count": null,
   "metadata": {},
   "outputs": [],
   "source": []
  }
 ],
 "metadata": {
  "kernelspec": {
   "display_name": "Python 3",
   "language": "python",
   "name": "python3"
  },
  "language_info": {
   "codemirror_mode": {
    "name": "ipython",
    "version": 3
   },
   "file_extension": ".py",
   "mimetype": "text/x-python",
   "name": "python",
   "nbconvert_exporter": "python",
   "pygments_lexer": "ipython3",
   "version": "3.7.4"
  }
 },
 "nbformat": 4,
 "nbformat_minor": 2
}
