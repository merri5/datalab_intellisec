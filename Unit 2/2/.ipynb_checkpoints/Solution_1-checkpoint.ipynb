{
 "cells": [
  {
   "cell_type": "code",
   "execution_count": 1,
   "metadata": {},
   "outputs": [],
   "source": [
    "import pandas as pd\n",
    "import numpy as np\n",
    "import re"
   ]
  },
  {
   "cell_type": "code",
   "execution_count": 2,
   "metadata": {},
   "outputs": [],
   "source": [
    "df = pd.read_csv(\"test.csv\", delimiter = \",\", encoding='latin1') # i needed to specify delimiter and encoding\n",
    "data = df.to_numpy()\n",
    "\n",
    "data = np.insert(data, 0, 0, axis = 1)\n",
    "data = np.insert(data, 0, 0, axis = 1)"
   ]
  },
  {
   "cell_type": "code",
   "execution_count": 3,
   "metadata": {},
   "outputs": [],
   "source": [
    "current_source_port = \"\"\n",
    "current_dest_port = \"\"\n",
    "for ind in range(0, len(data)):\n",
    "    if(ind + 2 < len(data)):\n",
    "        if data[ind,6] == \"TCP\" and data[ind + 1,6] == \"TCP\" and data[ind + 2,6] == \"TCP\":\n",
    "            packet = data[ind,8].replace(\"  \",\" \").split(\" \")\n",
    "            if(packet[3] == \"[SYN]\" ):\n",
    "                current_source_port = packet[0]\n",
    "                current_dest_port = packet[2]\n",
    "    data[ind,0] = current_source_port\n",
    "    data[ind,1] = current_dest_port"
   ]
  },
  {
   "cell_type": "code",
   "execution_count": 4,
   "metadata": {},
   "outputs": [],
   "source": [
    "data_ftp = data[data[:,6] == \"FTP\"]"
   ]
  },
  {
   "cell_type": "code",
   "execution_count": 5,
   "metadata": {},
   "outputs": [],
   "source": [
    "def match_CWD(string):\n",
    "    if re.fullmatch(\"^(Request:\\sCWD\\s)([a-zA-Z0-9]+/)*([a-zA-Z0-9]+)$\", string):\n",
    "        return True\n",
    "    elif re.fullmatch(\"^(Request:\\sCWD\\s)/$\", string):\n",
    "        return True\n",
    "    elif re.fullmatch(\"^(Request:\\sCWD\\s)(..(/..)*)$\", string):\n",
    "        return True\n",
    "    return False\n",
    "\n",
    "def match_MKD(string):\n",
    "    return re.fullmatch(\"^(Request:\\sMKD\\s)([a-zA-Z0-9]+/)*([a-zA-Z0-9]+)$\", string)\n",
    "\n",
    "def match_USER(string):\n",
    "    return re.fullmatch(\"^Request:\\sUSER\\s([a-zA-Z0-9]+)$\", string)\n",
    "    \n",
    "def match_LIST(string):  \n",
    "    return re.fullmatch(\"^Request:\\sLIST$\", string)\n",
    "\n",
    "def match_RNFR(string):  \n",
    "    return re.fullmatch(\"^Request:\\sRNFR\\s([a-zA-Z0-9]+/)*([a-zA-Z0-9]+)$\", string)\n",
    "    \n",
    "def match_RNTO(string):  \n",
    "    return re.fullmatch(\"^Request:\\sRNTO\\s([a-zA-Z0-9]+/)*([a-zA-Z0-9]+)$\", string)\n",
    "\n",
    "def match_DELE(string): \n",
    "    return re.fullmatch(\"^Request:\\sDELE\\s([a-zA-Z0-9]+/)*([a-zA-Z0-9]+)$\", string)\n",
    "\n",
    "def match_PASS(string): \n",
    "    return re.fullmatch(\"^Request:\\sPASS\\s([a-zA-Z0-9]+)$\", string)\n",
    "\n",
    "def match_STOR(string): \n",
    "    return re.fullmatch(\"^Request:\\sSTOR\\s([a-zA-Z0-9]+)$\", string)\n",
    "\n",
    "def match_PWD(string): \n",
    "    return re.fullmatch(\"^Request:\\sPWD$\", string)\n",
    "\n",
    "def match_PASV(string): \n",
    "    return  re.fullmatch(\"^Request:\\sPASV$\", string)\n",
    "\n",
    "def match_CDUP(string): \n",
    "    return re.fullmatch(\"^Request:\\sCDUP$\", string)\n",
    "\n",
    "def match_RETR(string): \n",
    "    return re.fullmatch(\"^Request:\\sRETR\\s([a-zA-Z0-9]+/)*([a-zA-Z0-9]+)$\", string)\n",
    "\n",
    "def match_QUIT(string): \n",
    "    return re.fullmatch(\"^Request:\\sQUIT$\", string)\n",
    "\n",
    "def match_TYPE(string): \n",
    "    if re.fullmatch(\"^Request:\\sTYPE\\sI$\", string):\n",
    "        return True\n",
    "    elif re.fullmatch(\"^Request:\\sTYPE\\sA$\", string):\n",
    "        return True\n",
    "    return False"
   ]
  },
  {
   "cell_type": "code",
   "execution_count": 6,
   "metadata": {},
   "outputs": [],
   "source": [
    "def match_incoming(string):\n",
    "    return match_CWD(string) or match_MKD(string) or match_USER(string) or match_LIST(string) or match_RNFR(string) or match_RNTO(string) or match_DELE(string) or match_PASS(string) or match_STOR(string) or match_PWD(string) or match_PASV(string) or match_CDUP(string) or match_RETR(string) or match_QUIT(string) or match_TYPE(string)"
   ]
  },
  {
   "cell_type": "code",
   "execution_count": 7,
   "metadata": {},
   "outputs": [],
   "source": [
    "result = {}\n",
    "\n",
    "for entry in data_ftp:\n",
    "    if(entry[5] == \"127.0.0.1\"): \n",
    "        result[\"{}:{}->{}:{}\".format(entry[4],entry[0], entry[5], entry[1])] = \"0\"\n",
    "            \n",
    "            \n",
    "for entry in data_ftp:\n",
    "    if(entry[5] == \"127.0.0.1\"): \n",
    "        if(not match_incoming(entry[8])):\n",
    "            result[\"{}:{}->{}:{}\".format(entry[4],entry[0], entry[5], entry[1])] = \"1\"\n"
   ]
  },
  {
   "cell_type": "code",
   "execution_count": 8,
   "metadata": {},
   "outputs": [
    {
     "name": "stderr",
     "output_type": "stream",
     "text": [
      "c:\\users\\m\\anaconda3\\lib\\site-packages\\ipykernel_launcher.py:1: FutureWarning: The signature of `Series.to_csv` was aligned to that of `DataFrame.to_csv`, and argument 'header' will change its default value from False to True: please pass an explicit value to suppress this warning.\n",
      "  \"\"\"Entry point for launching an IPython kernel.\n"
     ]
    }
   ],
   "source": [
    "pd.Series(list(result.values()), index = list(result.keys())).to_csv(\"solution_1.csv\")"
   ]
  },
  {
   "cell_type": "code",
   "execution_count": null,
   "metadata": {},
   "outputs": [],
   "source": []
  }
 ],
 "metadata": {
  "kernelspec": {
   "display_name": "Python 3",
   "language": "python",
   "name": "python3"
  },
  "language_info": {
   "codemirror_mode": {
    "name": "ipython",
    "version": 3
   },
   "file_extension": ".py",
   "mimetype": "text/x-python",
   "name": "python",
   "nbconvert_exporter": "python",
   "pygments_lexer": "ipython3",
   "version": "3.7.4"
  }
 },
 "nbformat": 4,
 "nbformat_minor": 2
}
